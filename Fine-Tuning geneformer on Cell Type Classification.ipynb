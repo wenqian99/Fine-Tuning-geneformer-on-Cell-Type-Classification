{
 "cells": [
  {
   "cell_type": "markdown",
   "id": "b3c1d35e-d05b-4b1f-bdf0-99754f2de668",
   "metadata": {},
   "source": [
    "# Demo: Fine-Tuning Geneformer on Cell Type Classification"
   ]
  },
  {
   "cell_type": "markdown",
   "id": "cef54017",
   "metadata": {},
   "source": [
    "python3.10 pytorch2.4 geneformerV1"
   ]
  },
  {
   "cell_type": "code",
   "execution_count": 1,
   "id": "e41e5665-70cd-46f1-b43c-95680b44f384",
   "metadata": {
    "collapsed": true,
    "jupyter": {
     "outputs_hidden": true
    },
    "tags": []
   },
   "outputs": [
    {
     "name": "stdout",
     "output_type": "stream",
     "text": [
      "Looking in indexes: https://pypi.tuna.tsinghua.edu.cn/simple\n",
      "Collecting transformers==4.39.0 (from -r requirements.txt (line 1))\n",
      "  Downloading https://pypi.tuna.tsinghua.edu.cn/packages/a4/73/f620d76193954e16db3d5c53a07d956d7b9c800e570758d3bff91906d4a4/transformers-4.39.0-py3-none-any.whl (8.8 MB)\n",
      "\u001b[2K     \u001b[90m━━━━━━━━━━━━━━━━━━━━━━━━━━━━━━━━━━━━━━━━\u001b[0m \u001b[32m8.8/8.8 MB\u001b[0m \u001b[31m22.3 MB/s\u001b[0m eta \u001b[36m0:00:00\u001b[0m00:01\u001b[0m00:01\u001b[0m\n",
      "\u001b[?25hCollecting scanpy (from -r requirements.txt (line 2))\n",
      "  Downloading https://pypi.tuna.tsinghua.edu.cn/packages/34/cd/50e2af91c8d64722958cc53ca59f3e2bdc05ae4a5b82d78672cfd2ec7b3c/scanpy-1.11.3-py3-none-any.whl (2.1 MB)\n",
      "\u001b[2K     \u001b[90m━━━━━━━━━━━━━━━━━━━━━━━━━━━━━━━━━━━━━━━━\u001b[0m \u001b[32m2.1/2.1 MB\u001b[0m \u001b[31m12.3 MB/s\u001b[0m eta \u001b[36m0:00:00\u001b[0ma \u001b[36m0:00:01\u001b[0mm\n",
      "\u001b[?25hCollecting mygene (from -r requirements.txt (line 3))\n",
      "  Downloading https://pypi.tuna.tsinghua.edu.cn/packages/a7/b7/132b1673c0ec00881d49d56c09624942fa0ebd2fc21d73d80647efa082e9/mygene-3.2.2-py2.py3-none-any.whl (5.4 kB)\n",
      "Collecting datasets (from -r requirements.txt (line 4))\n",
      "  Downloading https://pypi.tuna.tsinghua.edu.cn/packages/eb/62/eb8157afb21bd229c864521c1ab4fa8e9b4f1b06bafdd8c4668a7a31b5dd/datasets-4.0.0-py3-none-any.whl (494 kB)\n",
      "\u001b[2K     \u001b[90m━━━━━━━━━━━━━━━━━━━━━━━━━━━━━━━━━━━━━━━\u001b[0m \u001b[32m494.8/494.8 kB\u001b[0m \u001b[31m3.8 MB/s\u001b[0m eta \u001b[36m0:00:00\u001b[0m00:01\u001b[0m00:01\u001b[0m\n",
      "\u001b[?25hCollecting tdigest (from -r requirements.txt (line 5))\n",
      "  Downloading https://pypi.tuna.tsinghua.edu.cn/packages/b4/94/fd3853b98f39d10206b08f2737d2ec2dc6f46a42dc7b7e05f4f0162d13ee/tdigest-0.5.2.2-py3-none-any.whl (9.4 kB)\n",
      "Collecting loompy (from -r requirements.txt (line 6))\n",
      "  Downloading https://pypi.tuna.tsinghua.edu.cn/packages/c0/41/6d499b9b63406b204dd551002712c088abf0e130686721f403aa105736ba/loompy-3.0.8.tar.gz (49 kB)\n",
      "\u001b[2K     \u001b[90m━━━━━━━━━━━━━━━━━━━━━━━━━━━━━━━━━━━━━━━━\u001b[0m \u001b[32m49.6/49.6 kB\u001b[0m \u001b[31m34.7 MB/s\u001b[0m eta \u001b[36m0:00:00\u001b[0m\n",
      "\u001b[?25h  Preparing metadata (setup.py) ... \u001b[?25ldone\n",
      "\u001b[?25hRequirement already satisfied: filelock in /root/miniconda3/envs/myconda/lib/python3.10/site-packages (from transformers==4.39.0->-r requirements.txt (line 1)) (3.15.4)\n",
      "Collecting huggingface-hub<1.0,>=0.19.3 (from transformers==4.39.0->-r requirements.txt (line 1))\n",
      "  Downloading https://pypi.tuna.tsinghua.edu.cn/packages/46/7b/98daa50a2db034cab6cd23a3de04fa2358cb691593d28e9130203eb7a805/huggingface_hub-0.33.4-py3-none-any.whl (515 kB)\n",
      "\u001b[2K     \u001b[90m━━━━━━━━━━━━━━━━━━━━━━━━━━━━━━━━━━━━━━\u001b[0m \u001b[32m515.3/515.3 kB\u001b[0m \u001b[31m12.1 MB/s\u001b[0m eta \u001b[36m0:00:00\u001b[0ma \u001b[36m0:00:01\u001b[0m\n",
      "\u001b[?25hRequirement already satisfied: numpy>=1.17 in /root/miniconda3/envs/myconda/lib/python3.10/site-packages (from transformers==4.39.0->-r requirements.txt (line 1)) (1.25.2)\n",
      "Requirement already satisfied: packaging>=20.0 in /root/miniconda3/envs/myconda/lib/python3.10/site-packages (from transformers==4.39.0->-r requirements.txt (line 1)) (23.1)\n",
      "Collecting pyyaml>=5.1 (from transformers==4.39.0->-r requirements.txt (line 1))\n",
      "  Downloading https://pypi.tuna.tsinghua.edu.cn/packages/6b/4e/1523cb902fd98355e2e9ea5e5eb237cbc5f3ad5f3075fa65087aa0ecb669/PyYAML-6.0.2-cp310-cp310-manylinux_2_17_x86_64.manylinux2014_x86_64.whl (751 kB)\n",
      "\u001b[2K     \u001b[90m━━━━━━━━━━━━━━━━━━━━━━━━━━━━━━━━━━━━━━\u001b[0m \u001b[32m751.2/751.2 kB\u001b[0m \u001b[31m13.1 MB/s\u001b[0m eta \u001b[36m0:00:00\u001b[0ma \u001b[36m0:00:01\u001b[0m\n",
      "\u001b[?25hCollecting regex!=2019.12.17 (from transformers==4.39.0->-r requirements.txt (line 1))\n",
      "  Downloading https://pypi.tuna.tsinghua.edu.cn/packages/f2/98/26d3830875b53071f1f0ae6d547f1d98e964dd29ad35cbf94439120bb67a/regex-2024.11.6-cp310-cp310-manylinux_2_17_x86_64.manylinux2014_x86_64.whl (781 kB)\n",
      "\u001b[2K     \u001b[90m━━━━━━━━━━━━━━━━━━━━━━━━━━━━━━━━━━━━━━\u001b[0m \u001b[32m781.7/781.7 kB\u001b[0m \u001b[31m19.2 MB/s\u001b[0m eta \u001b[36m0:00:00\u001b[0ma \u001b[36m0:00:01\u001b[0m\n",
      "\u001b[?25hRequirement already satisfied: requests in /root/miniconda3/envs/myconda/lib/python3.10/site-packages (from transformers==4.39.0->-r requirements.txt (line 1)) (2.31.0)\n",
      "Collecting tokenizers<0.19,>=0.14 (from transformers==4.39.0->-r requirements.txt (line 1))\n",
      "  Downloading https://pypi.tuna.tsinghua.edu.cn/packages/1c/5d/cf5e122ce4f1a29f165b2a69dc33d1ff30bce303343d58a54775ddba5d51/tokenizers-0.15.2-cp310-cp310-manylinux_2_17_x86_64.manylinux2014_x86_64.whl (3.6 MB)\n",
      "\u001b[2K     \u001b[90m━━━━━━━━━━━━━━━━━━━━━━━━━━━━━━━━━━━━━━━━\u001b[0m \u001b[32m3.6/3.6 MB\u001b[0m \u001b[31m21.9 MB/s\u001b[0m eta \u001b[36m0:00:00\u001b[0ma \u001b[36m0:00:01\u001b[0m\n",
      "\u001b[?25hCollecting safetensors>=0.4.1 (from transformers==4.39.0->-r requirements.txt (line 1))\n",
      "  Downloading https://pypi.tuna.tsinghua.edu.cn/packages/a6/f8/dae3421624fcc87a89d42e1898a798bc7ff72c61f38973a65d60df8f124c/safetensors-0.5.3-cp38-abi3-manylinux_2_17_x86_64.manylinux2014_x86_64.whl (471 kB)\n",
      "\u001b[2K     \u001b[90m━━━━━━━━━━━━━━━━━━━━━━━━━━━━━━━━━━━━━━\u001b[0m \u001b[32m471.6/471.6 kB\u001b[0m \u001b[31m29.1 MB/s\u001b[0m eta \u001b[36m0:00:00\u001b[0m\n",
      "\u001b[?25hRequirement already satisfied: tqdm>=4.27 in /root/miniconda3/envs/myconda/lib/python3.10/site-packages (from transformers==4.39.0->-r requirements.txt (line 1)) (4.66.1)\n",
      "Collecting anndata>=0.8 (from scanpy->-r requirements.txt (line 2))\n",
      "  Downloading https://pypi.tuna.tsinghua.edu.cn/packages/0a/4b/ab615fea52e34579d5c6c7dba86b4f9d7f3cdb6a170b348ec49f34cf4355/anndata-0.11.4-py3-none-any.whl (144 kB)\n",
      "\u001b[2K     \u001b[90m━━━━━━━━━━━━━━━━━━━━━━━━━━━━━━━━━━━━━━\u001b[0m \u001b[32m144.5/144.5 kB\u001b[0m \u001b[31m44.6 MB/s\u001b[0m eta \u001b[36m0:00:00\u001b[0m\n",
      "\u001b[?25hRequirement already satisfied: h5py>=3.7.0 in /root/miniconda3/envs/myconda/lib/python3.10/site-packages (from scanpy->-r requirements.txt (line 2)) (3.9.0)\n",
      "Requirement already satisfied: joblib in /root/miniconda3/envs/myconda/lib/python3.10/site-packages (from scanpy->-r requirements.txt (line 2)) (1.3.2)\n",
      "Collecting legacy-api-wrap>=1.4.1 (from scanpy->-r requirements.txt (line 2))\n",
      "  Downloading https://pypi.tuna.tsinghua.edu.cn/packages/3c/1d/9324c70629dfe4395f9122ab331cf245d3cce6ded851aa8a0a8ae264c4e6/legacy_api_wrap-1.4.1-py3-none-any.whl (10.0 kB)\n",
      "Collecting matplotlib>=3.7.5 (from scanpy->-r requirements.txt (line 2))\n",
      "  Downloading https://pypi.tuna.tsinghua.edu.cn/packages/85/c7/1866e972fed6d71ef136efbc980d4d1854ab7ef1ea8152bbd995ca231c81/matplotlib-3.10.3-cp310-cp310-manylinux_2_17_x86_64.manylinux2014_x86_64.whl (8.6 MB)\n",
      "\u001b[2K     \u001b[90m━━━━━━━━━━━━━━━━━━━━━━━━━━━━━━━━━━━━━━━━\u001b[0m \u001b[32m8.6/8.6 MB\u001b[0m \u001b[31m27.1 MB/s\u001b[0m eta \u001b[36m0:00:00\u001b[0m00:01\u001b[0m00:01\u001b[0m\n",
      "\u001b[?25hCollecting natsort (from scanpy->-r requirements.txt (line 2))\n",
      "  Downloading https://pypi.tuna.tsinghua.edu.cn/packages/ef/82/7a9d0550484a62c6da82858ee9419f3dd1ccc9aa1c26a1e43da3ecd20b0d/natsort-8.4.0-py3-none-any.whl (38 kB)\n",
      "Requirement already satisfied: networkx>=2.7.1 in /root/miniconda3/envs/myconda/lib/python3.10/site-packages (from scanpy->-r requirements.txt (line 2)) (3.3)\n",
      "Collecting numba>=0.57.1 (from scanpy->-r requirements.txt (line 2))\n",
      "  Downloading https://pypi.tuna.tsinghua.edu.cn/packages/e2/7d/bfb2805bcfbd479f04f835241ecf28519f6e3609912e3a985aed45e21370/numba-0.61.2-cp310-cp310-manylinux2014_x86_64.manylinux_2_17_x86_64.whl (3.8 MB)\n",
      "\u001b[2K     \u001b[90m━━━━━━━━━━━━━━━━━━━━━━━━━━━━━━━━━━━━━━━━\u001b[0m \u001b[32m3.8/3.8 MB\u001b[0m \u001b[31m44.2 MB/s\u001b[0m eta \u001b[36m0:00:00\u001b[0ma \u001b[36m0:00:01\u001b[0m\n",
      "\u001b[?25hRequirement already satisfied: pandas>=1.5.3 in /root/miniconda3/envs/myconda/lib/python3.10/site-packages (from scanpy->-r requirements.txt (line 2)) (2.0.3)\n",
      "Collecting patsy!=1.0.0 (from scanpy->-r requirements.txt (line 2))\n",
      "  Downloading https://pypi.tuna.tsinghua.edu.cn/packages/87/2b/b50d3d08ea0fc419c183a84210571eba005328efa62b6b98bc28e9ead32a/patsy-1.0.1-py2.py3-none-any.whl (232 kB)\n",
      "\u001b[2K     \u001b[90m━━━━━━━━━━━━━━━━━━━━━━━━━━━━━━━━━━━━━━\u001b[0m \u001b[32m232.9/232.9 kB\u001b[0m \u001b[31m86.7 MB/s\u001b[0m eta \u001b[36m0:00:00\u001b[0m\n",
      "\u001b[?25hCollecting pynndescent>=0.5.13 (from scanpy->-r requirements.txt (line 2))\n",
      "  Downloading https://pypi.tuna.tsinghua.edu.cn/packages/d2/53/d23a97e0a2c690d40b165d1062e2c4ccc796be458a1ce59f6ba030434663/pynndescent-0.5.13-py3-none-any.whl (56 kB)\n",
      "\u001b[2K     \u001b[90m━━━━━━━━━━━━━━━━━━━━━━━━━━━━━━━━━━━━━━━━\u001b[0m \u001b[32m56.9/56.9 kB\u001b[0m \u001b[31m40.7 MB/s\u001b[0m eta \u001b[36m0:00:00\u001b[0m\n",
      "\u001b[?25hRequirement already satisfied: scikit-learn>=1.1.3 in /root/miniconda3/envs/myconda/lib/python3.10/site-packages (from scanpy->-r requirements.txt (line 2)) (1.3.0)\n",
      "Requirement already satisfied: scipy<1.16.0,>=1.8.1 in /root/miniconda3/envs/myconda/lib/python3.10/site-packages (from scanpy->-r requirements.txt (line 2)) (1.11.2)\n",
      "Collecting seaborn>=0.13.2 (from scanpy->-r requirements.txt (line 2))\n",
      "  Downloading https://pypi.tuna.tsinghua.edu.cn/packages/83/11/00d3c3dfc25ad54e731d91449895a79e4bf2384dc3ac01809010ba88f6d5/seaborn-0.13.2-py3-none-any.whl (294 kB)\n",
      "\u001b[2K     \u001b[90m━━━━━━━━━━━━━━━━━━━━━━━━━━━━━━━━━━━━━━\u001b[0m \u001b[32m294.9/294.9 kB\u001b[0m \u001b[31m63.5 MB/s\u001b[0m eta \u001b[36m0:00:00\u001b[0m\n",
      "\u001b[?25hCollecting session-info2 (from scanpy->-r requirements.txt (line 2))\n",
      "  Downloading https://pypi.tuna.tsinghua.edu.cn/packages/db/98/9578ce1d8ae951cf44e6b7434854824f0eae12d54b270e80014f8ab1971c/session_info2-0.1.2-py3-none-any.whl (14 kB)\n",
      "Collecting statsmodels>=0.14.4 (from scanpy->-r requirements.txt (line 2))\n",
      "  Downloading https://pypi.tuna.tsinghua.edu.cn/packages/a1/25/edf20acbd670934b02cd9344e29c9a03ce040122324b3491bb075ae76b2d/statsmodels-0.14.5-cp310-cp310-manylinux2014_x86_64.manylinux_2_17_x86_64.manylinux_2_28_x86_64.whl (10.7 MB)\n",
      "\u001b[2K     \u001b[90m━━━━━━━━━━━━━━━━━━━━━━━━━━━━━━━━━━━━━━━━\u001b[0m \u001b[32m10.7/10.7 MB\u001b[0m \u001b[31m28.1 MB/s\u001b[0m eta \u001b[36m0:00:00\u001b[0m00:01\u001b[0m00:01\u001b[0m\n",
      "\u001b[?25hRequirement already satisfied: typing-extensions in /root/miniconda3/envs/myconda/lib/python3.10/site-packages (from scanpy->-r requirements.txt (line 2)) (4.12.2)\n",
      "Collecting umap-learn>=0.5.6 (from scanpy->-r requirements.txt (line 2))\n",
      "  Downloading https://pypi.tuna.tsinghua.edu.cn/packages/6b/b1/c24deeda9baf1fd491aaad941ed89e0fed6c583a117fd7b79e0a33a1e6c0/umap_learn-0.5.9.post2-py3-none-any.whl (90 kB)\n",
      "\u001b[2K     \u001b[90m━━━━━━━━━━━━━━━━━━━━━━━━━━━━━━━━━━━━━━━━\u001b[0m \u001b[32m90.1/90.1 kB\u001b[0m \u001b[31m49.7 MB/s\u001b[0m eta \u001b[36m0:00:00\u001b[0m\n",
      "\u001b[?25hCollecting biothings-client>=0.2.6 (from mygene->-r requirements.txt (line 3))\n",
      "  Downloading https://pypi.tuna.tsinghua.edu.cn/packages/dc/6d/130477cfbd7294949b919c45cc1ed14a642cec95afba06a54400a4419235/biothings_client-0.4.1-py3-none-any.whl (46 kB)\n",
      "\u001b[2K     \u001b[90m━━━━━━━━━━━━━━━━━━━━━━━━━━━━━━━━━━━━━━━━\u001b[0m \u001b[32m46.7/46.7 kB\u001b[0m \u001b[31m27.5 MB/s\u001b[0m eta \u001b[36m0:00:00\u001b[0m\n",
      "\u001b[?25hCollecting pyarrow>=15.0.0 (from datasets->-r requirements.txt (line 4))\n",
      "  Downloading https://pypi.tuna.tsinghua.edu.cn/packages/44/28/b6672962639e85dc0ac36f71ab3a8f5f38e01b51343d7aa372a6b56fa3f3/pyarrow-21.0.0-cp310-cp310-manylinux_2_28_x86_64.whl (42.7 MB)\n",
      "\u001b[2K     \u001b[90m━━━━━━━━━━━━━━━━━━━━━━━━━━━━━━━━━━━━━━━━\u001b[0m \u001b[32m42.7/42.7 MB\u001b[0m \u001b[31m25.2 MB/s\u001b[0m eta \u001b[36m0:00:00\u001b[0m00:01\u001b[0m00:01\u001b[0m\n",
      "\u001b[?25hCollecting dill<0.3.9,>=0.3.0 (from datasets->-r requirements.txt (line 4))\n",
      "  Downloading https://pypi.tuna.tsinghua.edu.cn/packages/c9/7a/cef76fd8438a42f96db64ddaa85280485a9c395e7df3db8158cfec1eee34/dill-0.3.8-py3-none-any.whl (116 kB)\n",
      "\u001b[2K     \u001b[90m━━━━━━━━━━━━━━━━━━━━━━━━━━━━━━━━━━━━━━\u001b[0m \u001b[32m116.3/116.3 kB\u001b[0m \u001b[31m59.1 MB/s\u001b[0m eta \u001b[36m0:00:00\u001b[0m\n",
      "\u001b[?25hCollecting requests (from transformers==4.39.0->-r requirements.txt (line 1))\n",
      "  Downloading https://pypi.tuna.tsinghua.edu.cn/packages/7c/e4/56027c4a6b4ae70ca9de302488c5ca95ad4a39e190093d6c1a8ace08341b/requests-2.32.4-py3-none-any.whl (64 kB)\n",
      "\u001b[2K     \u001b[90m━━━━━━━━━━━━━━━━━━━━━━━━━━━━━━━━━━━━━━━━\u001b[0m \u001b[32m64.8/64.8 kB\u001b[0m \u001b[31m52.2 MB/s\u001b[0m eta \u001b[36m0:00:00\u001b[0m\n",
      "\u001b[?25hCollecting tqdm>=4.27 (from transformers==4.39.0->-r requirements.txt (line 1))\n",
      "  Downloading https://pypi.tuna.tsinghua.edu.cn/packages/d0/30/dc54f88dd4a2b5dc8a0279bdd7270e735851848b762aeb1c1184ed1f6b14/tqdm-4.67.1-py3-none-any.whl (78 kB)\n",
      "\u001b[2K     \u001b[90m━━━━━━━━━━━━━━━━━━━━━━━━━━━━━━━━━━━━━━━━\u001b[0m \u001b[32m78.5/78.5 kB\u001b[0m \u001b[31m59.1 MB/s\u001b[0m eta \u001b[36m0:00:00\u001b[0m\n",
      "\u001b[?25hCollecting xxhash (from datasets->-r requirements.txt (line 4))\n",
      "  Downloading https://pypi.tuna.tsinghua.edu.cn/packages/f2/07/d9a3059f702dec5b3b703737afb6dda32f304f6e9da181a229dafd052c29/xxhash-3.5.0-cp310-cp310-manylinux_2_17_x86_64.manylinux2014_x86_64.whl (194 kB)\n",
      "\u001b[2K     \u001b[90m━━━━━━━━━━━━━━━━━━━━━━━━━━━━━━━━━━━━━━\u001b[0m \u001b[32m194.1/194.1 kB\u001b[0m \u001b[31m40.5 MB/s\u001b[0m eta \u001b[36m0:00:00\u001b[0m\n",
      "\u001b[?25hCollecting multiprocess<0.70.17 (from datasets->-r requirements.txt (line 4))\n",
      "  Downloading https://pypi.tuna.tsinghua.edu.cn/packages/bc/f7/7ec7fddc92e50714ea3745631f79bd9c96424cb2702632521028e57d3a36/multiprocess-0.70.16-py310-none-any.whl (134 kB)\n",
      "\u001b[2K     \u001b[90m━━━━━━━━━━━━━━━━━━━━━━━━━━━━━━━━━━━━━━\u001b[0m \u001b[32m134.8/134.8 kB\u001b[0m \u001b[31m48.0 MB/s\u001b[0m eta \u001b[36m0:00:00\u001b[0m\n",
      "\u001b[?25hRequirement already satisfied: fsspec[http]<=2025.3.0,>=2023.1.0 in /root/miniconda3/envs/myconda/lib/python3.10/site-packages (from datasets->-r requirements.txt (line 4)) (2024.6.1)\n",
      "Collecting accumulation-tree (from tdigest->-r requirements.txt (line 5))\n",
      "  Downloading https://pypi.tuna.tsinghua.edu.cn/packages/ac/dc/4ffda8a22b6af3f41bcec07ddfebe723218976eaa016cefbc904634a4e85/accumulation_tree-0.6.4.tar.gz (12 kB)\n",
      "  Installing build dependencies ... \u001b[?25ldone\n",
      "\u001b[?25h  Getting requirements to build wheel ... \u001b[?25ldone\n",
      "\u001b[?25h  Preparing metadata (pyproject.toml) ... \u001b[?25ldone\n",
      "\u001b[?25hCollecting pyudorandom (from tdigest->-r requirements.txt (line 5))\n",
      "  Downloading https://pypi.tuna.tsinghua.edu.cn/packages/13/14/6fc20ea903eda547d6a255e995f8d4a09fdc3cf8bfacb6f85e6d669bc259/pyudorandom-1.0.0.tar.gz (1.6 kB)\n",
      "  Preparing metadata (setup.py) ... \u001b[?25ldone\n",
      "\u001b[?25hRequirement already satisfied: setuptools in /root/miniconda3/envs/myconda/lib/python3.10/site-packages (from loompy->-r requirements.txt (line 6)) (68.0.0)\n",
      "Collecting click (from loompy->-r requirements.txt (line 6))\n",
      "  Downloading https://pypi.tuna.tsinghua.edu.cn/packages/85/32/10bb5764d90a8eee674e9dc6f4db6a0ab47c8c4d0d83c27f7c39ac415a4d/click-8.2.1-py3-none-any.whl (102 kB)\n",
      "\u001b[2K     \u001b[90m━━━━━━━━━━━━━━━━━━━━━━━━━━━━━━━━━━━━━━\u001b[0m \u001b[32m102.2/102.2 kB\u001b[0m \u001b[31m53.0 MB/s\u001b[0m eta \u001b[36m0:00:00\u001b[0m\n",
      "\u001b[?25hCollecting numpy-groupies (from loompy->-r requirements.txt (line 6))\n",
      "  Downloading https://pypi.tuna.tsinghua.edu.cn/packages/b0/e0/760e73c111193db5ca37712a148e4807d1b0c60302ab31e4ada6528ca34d/numpy_groupies-0.11.3-py3-none-any.whl (40 kB)\n",
      "\u001b[2K     \u001b[90m━━━━━━━━━━━━━━━━━━━━━━━━━━━━━━━━━━━━━━━━\u001b[0m \u001b[32m40.8/40.8 kB\u001b[0m \u001b[31m22.7 MB/s\u001b[0m eta \u001b[36m0:00:00\u001b[0m\n",
      "\u001b[?25hCollecting array-api-compat!=1.5,>1.4 (from anndata>=0.8->scanpy->-r requirements.txt (line 2))\n",
      "  Downloading https://pypi.tuna.tsinghua.edu.cn/packages/e0/b1/0542e0cab6f49f151a2d7a42400f84f706fc0b64e85dc1f56708b2e9fd37/array_api_compat-1.12.0-py3-none-any.whl (58 kB)\n",
      "\u001b[2K     \u001b[90m━━━━━━━━━━━━━━━━━━━━━━━━━━━━━━━━━━━━━━━━\u001b[0m \u001b[32m58.2/58.2 kB\u001b[0m \u001b[31m47.3 MB/s\u001b[0m eta \u001b[36m0:00:00\u001b[0m\n",
      "\u001b[?25hCollecting exceptiongroup (from anndata>=0.8->scanpy->-r requirements.txt (line 2))\n",
      "  Downloading https://pypi.tuna.tsinghua.edu.cn/packages/36/f4/c6e662dade71f56cd2f3735141b265c3c79293c109549c1e6933b0651ffc/exceptiongroup-1.3.0-py3-none-any.whl (16 kB)\n",
      "Collecting packaging>=20.0 (from transformers==4.39.0->-r requirements.txt (line 1))\n",
      "  Downloading https://pypi.tuna.tsinghua.edu.cn/packages/20/12/38679034af332785aac8774540895e234f4d07f7545804097de4b666afd8/packaging-25.0-py3-none-any.whl (66 kB)\n",
      "\u001b[2K     \u001b[90m━━━━━━━━━━━━━━━━━━━━━━━━━━━━━━━━━━━━━━━━\u001b[0m \u001b[32m66.5/66.5 kB\u001b[0m \u001b[31m52.0 MB/s\u001b[0m eta \u001b[36m0:00:00\u001b[0m\n",
      "\u001b[?25hCollecting httpx>=0.22.0 (from biothings-client>=0.2.6->mygene->-r requirements.txt (line 3))\n",
      "  Downloading https://pypi.tuna.tsinghua.edu.cn/packages/2a/39/e50c7c3a983047577ee07d2a9e53faf5a69493943ec3f6a384bdc792deb2/httpx-0.28.1-py3-none-any.whl (73 kB)\n",
      "\u001b[2K     \u001b[90m━━━━━━━━━━━━━━━━━━━━━━━━━━━━━━━━━━━━━━━━\u001b[0m \u001b[32m73.5/73.5 kB\u001b[0m \u001b[31m54.0 MB/s\u001b[0m eta \u001b[36m0:00:00\u001b[0m\n",
      "\u001b[?25hCollecting aiohttp!=4.0.0a0,!=4.0.0a1 (from fsspec[http]<=2025.3.0,>=2023.1.0->datasets->-r requirements.txt (line 4))\n",
      "  Downloading https://pypi.tuna.tsinghua.edu.cn/packages/d6/4f/ef6d9f77225cf27747368c37b3d69fac1f8d6f9d3d5de2d410d155639524/aiohttp-3.12.14-cp310-cp310-manylinux_2_17_x86_64.manylinux2014_x86_64.whl (1.6 MB)\n",
      "\u001b[2K     \u001b[90m━━━━━━━━━━━━━━━━━━━━━━━━━━━━━━━━━━━━━━━━\u001b[0m \u001b[32m1.6/1.6 MB\u001b[0m \u001b[31m29.6 MB/s\u001b[0m eta \u001b[36m0:00:00\u001b[0ma \u001b[36m0:00:01\u001b[0m\n",
      "\u001b[?25hCollecting hf-xet<2.0.0,>=1.1.2 (from huggingface-hub<1.0,>=0.19.3->transformers==4.39.0->-r requirements.txt (line 1))\n",
      "  Downloading https://pypi.tuna.tsinghua.edu.cn/packages/6d/2f/6cad7b5fe86b7652579346cb7f85156c11761df26435651cbba89376cd2c/hf_xet-1.1.5-cp37-abi3-manylinux_2_17_x86_64.manylinux2014_x86_64.whl (3.1 MB)\n",
      "\u001b[2K     \u001b[90m━━━━━━━━━━━━━━━━━━━━━━━━━━━━━━━━━━━━━━━━\u001b[0m \u001b[32m3.1/3.1 MB\u001b[0m \u001b[31m28.1 MB/s\u001b[0m eta \u001b[36m0:00:00\u001b[0ma \u001b[36m0:00:01\u001b[0m\n",
      "\u001b[?25hRequirement already satisfied: contourpy>=1.0.1 in /root/miniconda3/envs/myconda/lib/python3.10/site-packages (from matplotlib>=3.7.5->scanpy->-r requirements.txt (line 2)) (1.1.0)\n",
      "Requirement already satisfied: cycler>=0.10 in /root/miniconda3/envs/myconda/lib/python3.10/site-packages (from matplotlib>=3.7.5->scanpy->-r requirements.txt (line 2)) (0.11.0)\n",
      "Requirement already satisfied: fonttools>=4.22.0 in /root/miniconda3/envs/myconda/lib/python3.10/site-packages (from matplotlib>=3.7.5->scanpy->-r requirements.txt (line 2)) (4.42.1)\n",
      "Requirement already satisfied: kiwisolver>=1.3.1 in /root/miniconda3/envs/myconda/lib/python3.10/site-packages (from matplotlib>=3.7.5->scanpy->-r requirements.txt (line 2)) (1.4.4)\n",
      "Requirement already satisfied: pillow>=8 in /root/miniconda3/envs/myconda/lib/python3.10/site-packages (from matplotlib>=3.7.5->scanpy->-r requirements.txt (line 2)) (10.0.0)\n",
      "Requirement already satisfied: pyparsing>=2.3.1 in /root/miniconda3/envs/myconda/lib/python3.10/site-packages (from matplotlib>=3.7.5->scanpy->-r requirements.txt (line 2)) (3.0.9)\n",
      "Requirement already satisfied: python-dateutil>=2.7 in /root/miniconda3/envs/myconda/lib/python3.10/site-packages (from matplotlib>=3.7.5->scanpy->-r requirements.txt (line 2)) (2.8.2)\n",
      "Collecting llvmlite<0.45,>=0.44.0dev0 (from numba>=0.57.1->scanpy->-r requirements.txt (line 2))\n",
      "  Downloading https://pypi.tuna.tsinghua.edu.cn/packages/aa/46/8ffbc114def88cc698906bf5acab54ca9fdf9214fe04aed0e71731fb3688/llvmlite-0.44.0-cp310-cp310-manylinux_2_17_x86_64.manylinux2014_x86_64.whl (42.4 MB)\n",
      "\u001b[2K     \u001b[90m━━━━━━━━━━━━━━━━━━━━━━━━━━━━━━━━━━━━━━━━\u001b[0m \u001b[32m42.4/42.4 MB\u001b[0m \u001b[31m12.6 MB/s\u001b[0m eta \u001b[36m0:00:00\u001b[0m00:01\u001b[0m00:01\u001b[0m\n",
      "\u001b[?25hRequirement already satisfied: pytz>=2020.1 in /root/miniconda3/envs/myconda/lib/python3.10/site-packages (from pandas>=1.5.3->scanpy->-r requirements.txt (line 2)) (2023.3)\n",
      "Requirement already satisfied: tzdata>=2022.1 in /root/miniconda3/envs/myconda/lib/python3.10/site-packages (from pandas>=1.5.3->scanpy->-r requirements.txt (line 2)) (2023.3)\n",
      "Requirement already satisfied: charset_normalizer<4,>=2 in /root/miniconda3/envs/myconda/lib/python3.10/site-packages (from requests->transformers==4.39.0->-r requirements.txt (line 1)) (3.2.0)\n",
      "Requirement already satisfied: idna<4,>=2.5 in /root/miniconda3/envs/myconda/lib/python3.10/site-packages (from requests->transformers==4.39.0->-r requirements.txt (line 1)) (3.4)\n",
      "Requirement already satisfied: urllib3<3,>=1.21.1 in /root/miniconda3/envs/myconda/lib/python3.10/site-packages (from requests->transformers==4.39.0->-r requirements.txt (line 1)) (1.26.16)\n",
      "Requirement already satisfied: certifi>=2017.4.17 in /root/miniconda3/envs/myconda/lib/python3.10/site-packages (from requests->transformers==4.39.0->-r requirements.txt (line 1)) (2023.7.22)\n",
      "Requirement already satisfied: threadpoolctl>=2.0.0 in /root/miniconda3/envs/myconda/lib/python3.10/site-packages (from scikit-learn>=1.1.3->scanpy->-r requirements.txt (line 2)) (3.2.0)\n",
      "Collecting scikit-learn>=1.1.3 (from scanpy->-r requirements.txt (line 2))\n",
      "  Downloading https://pypi.tuna.tsinghua.edu.cn/packages/fb/a4/e488acdece6d413f370a9589a7193dac79cd486b2e418d3276d6ea0b9305/scikit_learn-1.7.1-cp310-cp310-manylinux2014_x86_64.manylinux_2_17_x86_64.whl (9.7 MB)\n",
      "\u001b[2K     \u001b[90m━━━━━━━━━━━━━━━━━━━━━━━━━━━━━━━━━━━━━━━━\u001b[0m \u001b[32m9.7/9.7 MB\u001b[0m \u001b[31m32.5 MB/s\u001b[0m eta \u001b[36m0:00:00\u001b[0m00:01\u001b[0m00:01\u001b[0m\n",
      "\u001b[?25hCollecting aiohappyeyeballs>=2.5.0 (from aiohttp!=4.0.0a0,!=4.0.0a1->fsspec[http]<=2025.3.0,>=2023.1.0->datasets->-r requirements.txt (line 4))\n",
      "  Downloading https://pypi.tuna.tsinghua.edu.cn/packages/0f/15/5bf3b99495fb160b63f95972b81750f18f7f4e02ad051373b669d17d44f2/aiohappyeyeballs-2.6.1-py3-none-any.whl (15 kB)\n",
      "Collecting aiosignal>=1.4.0 (from aiohttp!=4.0.0a0,!=4.0.0a1->fsspec[http]<=2025.3.0,>=2023.1.0->datasets->-r requirements.txt (line 4))\n",
      "  Downloading https://pypi.tuna.tsinghua.edu.cn/packages/fb/76/641ae371508676492379f16e2fa48f4e2c11741bd63c48be4b12a6b09cba/aiosignal-1.4.0-py3-none-any.whl (7.5 kB)\n",
      "Collecting async-timeout<6.0,>=4.0 (from aiohttp!=4.0.0a0,!=4.0.0a1->fsspec[http]<=2025.3.0,>=2023.1.0->datasets->-r requirements.txt (line 4))\n",
      "  Downloading https://pypi.tuna.tsinghua.edu.cn/packages/fe/ba/e2081de779ca30d473f21f5b30e0e737c438205440784c7dfc81efc2b029/async_timeout-5.0.1-py3-none-any.whl (6.2 kB)\n",
      "Collecting attrs>=17.3.0 (from aiohttp!=4.0.0a0,!=4.0.0a1->fsspec[http]<=2025.3.0,>=2023.1.0->datasets->-r requirements.txt (line 4))\n",
      "  Downloading https://pypi.tuna.tsinghua.edu.cn/packages/77/06/bb80f5f86020c4551da315d78b3ab75e8228f89f0162f2c3a819e407941a/attrs-25.3.0-py3-none-any.whl (63 kB)\n",
      "\u001b[2K     \u001b[90m━━━━━━━━━━━━━━━━━━━━━━━━━━━━━━━━━━━━━━━━\u001b[0m \u001b[32m63.8/63.8 kB\u001b[0m \u001b[31m33.0 MB/s\u001b[0m eta \u001b[36m0:00:00\u001b[0m\n",
      "\u001b[?25hCollecting frozenlist>=1.1.1 (from aiohttp!=4.0.0a0,!=4.0.0a1->fsspec[http]<=2025.3.0,>=2023.1.0->datasets->-r requirements.txt (line 4))\n",
      "  Downloading https://pypi.tuna.tsinghua.edu.cn/packages/13/47/f9179ee5ee4f55629e4f28c660b3fdf2775c8bfde8f9c53f2de2d93f52a9/frozenlist-1.7.0-cp310-cp310-manylinux_2_5_x86_64.manylinux1_x86_64.manylinux_2_17_x86_64.manylinux2014_x86_64.whl (222 kB)\n",
      "\u001b[2K     \u001b[90m━━━━━━━━━━━━━━━━━━━━━━━━━━━━━━━━━━━━━━\u001b[0m \u001b[32m222.9/222.9 kB\u001b[0m \u001b[31m96.1 MB/s\u001b[0m eta \u001b[36m0:00:00\u001b[0m\n",
      "\u001b[?25hCollecting multidict<7.0,>=4.5 (from aiohttp!=4.0.0a0,!=4.0.0a1->fsspec[http]<=2025.3.0,>=2023.1.0->datasets->-r requirements.txt (line 4))\n",
      "  Downloading https://pypi.tuna.tsinghua.edu.cn/packages/44/11/780615a98fd3775fc309d0234d563941af69ade2df0bb82c91dda6ddaea1/multidict-6.6.3-cp310-cp310-manylinux2014_x86_64.manylinux_2_17_x86_64.manylinux_2_28_x86_64.whl (241 kB)\n",
      "\u001b[2K     \u001b[90m━━━━━━━━━━━━━━━━━━━━━━━━━━━━━━━━━━━━━\u001b[0m \u001b[32m241.6/241.6 kB\u001b[0m \u001b[31m112.4 MB/s\u001b[0m eta \u001b[36m0:00:00\u001b[0m\n",
      "\u001b[?25hCollecting propcache>=0.2.0 (from aiohttp!=4.0.0a0,!=4.0.0a1->fsspec[http]<=2025.3.0,>=2023.1.0->datasets->-r requirements.txt (line 4))\n",
      "  Downloading https://pypi.tuna.tsinghua.edu.cn/packages/7c/bb/38fd08b278ca85cde36d848091ad2b45954bc5f15cce494bb300b9285831/propcache-0.3.2-cp310-cp310-manylinux_2_17_x86_64.manylinux2014_x86_64.whl (198 kB)\n",
      "\u001b[2K     \u001b[90m━━━━━━━━━━━━━━━━━━━━━━━━━━━━━━━━━━━━━\u001b[0m \u001b[32m198.3/198.3 kB\u001b[0m \u001b[31m116.0 MB/s\u001b[0m eta \u001b[36m0:00:00\u001b[0m\n",
      "\u001b[?25hCollecting yarl<2.0,>=1.17.0 (from aiohttp!=4.0.0a0,!=4.0.0a1->fsspec[http]<=2025.3.0,>=2023.1.0->datasets->-r requirements.txt (line 4))\n",
      "  Downloading https://pypi.tuna.tsinghua.edu.cn/packages/65/94/e21269718349582eee81efc5c1c08ee71c816bfc1585b77d0ec3f58089eb/yarl-1.20.1-cp310-cp310-manylinux_2_17_x86_64.manylinux2014_x86_64.whl (326 kB)\n",
      "\u001b[2K     \u001b[90m━━━━━━━━━━━━━━━━━━━━━━━━━━━━━━━━━━━━━━\u001b[0m \u001b[32m326.1/326.1 kB\u001b[0m \u001b[31m87.7 MB/s\u001b[0m eta \u001b[36m0:00:00\u001b[0m\n",
      "\u001b[?25hCollecting anyio (from httpx>=0.22.0->biothings-client>=0.2.6->mygene->-r requirements.txt (line 3))\n",
      "  Downloading https://pypi.tuna.tsinghua.edu.cn/packages/a1/ee/48ca1a7c89ffec8b6a0c5d02b89c305671d5ffd8d3c94acf8b8c408575bb/anyio-4.9.0-py3-none-any.whl (100 kB)\n",
      "\u001b[2K     \u001b[90m━━━━━━━━━━━━━━━━━━━━━━━━━━━━━━━━━━━━━━\u001b[0m \u001b[32m100.9/100.9 kB\u001b[0m \u001b[31m75.3 MB/s\u001b[0m eta \u001b[36m0:00:00\u001b[0m\n",
      "\u001b[?25hCollecting httpcore==1.* (from httpx>=0.22.0->biothings-client>=0.2.6->mygene->-r requirements.txt (line 3))\n",
      "  Downloading https://pypi.tuna.tsinghua.edu.cn/packages/7e/f5/f66802a942d491edb555dd61e3a9961140fd64c90bce1eafd741609d334d/httpcore-1.0.9-py3-none-any.whl (78 kB)\n",
      "\u001b[2K     \u001b[90m━━━━━━━━━━━━━━━━━━━━━━━━━━━━━━━━━━━━━━━━\u001b[0m \u001b[32m78.8/78.8 kB\u001b[0m \u001b[31m54.3 MB/s\u001b[0m eta \u001b[36m0:00:00\u001b[0m\n",
      "\u001b[?25hCollecting h11>=0.16 (from httpcore==1.*->httpx>=0.22.0->biothings-client>=0.2.6->mygene->-r requirements.txt (line 3))\n",
      "  Downloading https://pypi.tuna.tsinghua.edu.cn/packages/04/4b/29cac41a4d98d144bf5f6d33995617b185d14b22401f75ca86f384e87ff1/h11-0.16.0-py3-none-any.whl (37 kB)\n",
      "Requirement already satisfied: six>=1.5 in /root/miniconda3/envs/myconda/lib/python3.10/site-packages (from python-dateutil>=2.7->matplotlib>=3.7.5->scanpy->-r requirements.txt (line 2)) (1.16.0)\n",
      "Collecting sniffio>=1.1 (from anyio->httpx>=0.22.0->biothings-client>=0.2.6->mygene->-r requirements.txt (line 3))\n",
      "  Downloading https://pypi.tuna.tsinghua.edu.cn/packages/e9/44/75a9c9421471a6c4805dbf2356f7c181a29c1879239abab1ea2cc8f38b40/sniffio-1.3.1-py3-none-any.whl (10 kB)\n",
      "Building wheels for collected packages: loompy, accumulation-tree, pyudorandom\n",
      "  Building wheel for loompy (setup.py) ... \u001b[?25ldone\n",
      "\u001b[?25h  Created wheel for loompy: filename=loompy-3.0.8-py3-none-any.whl size=54013 sha256=e64db6fe2936b517819bcdf98350e2104833e203556a408b9eb861ee92bb1e7e\n",
      "  Stored in directory: /root/.cache/pip/wheels/55/90/3f/310e047fac43b2cb90bc792bdb1bc43feb1e0c4b9e818031ff\n",
      "  Building wheel for accumulation-tree (pyproject.toml) ... \u001b[?25ldone\n",
      "\u001b[?25h  Created wheel for accumulation-tree: filename=accumulation_tree-0.6.4-cp310-cp310-linux_x86_64.whl size=87586 sha256=4266cebf2eac663f67202c8c1f738852e4d3cc2b812d3844bc4aafecefc1791f\n",
      "  Stored in directory: /root/.cache/pip/wheels/d5/cd/a0/95ad45bce482fd0b59abb2fb830507515bdb3d332469b73710\n",
      "  Building wheel for pyudorandom (setup.py) ... \u001b[?25ldone\n",
      "\u001b[?25h  Created wheel for pyudorandom: filename=pyudorandom-1.0.0-py3-none-any.whl size=2191 sha256=8275c822b846381d3f22102985b264ad1a19169e70e966482cac6761c4a5c615\n",
      "  Stored in directory: /root/.cache/pip/wheels/01/55/81/aa16e16f92f9ef93f9f287b135fc1826f8f3bfbe0c65c25729\n",
      "Successfully built loompy accumulation-tree pyudorandom\n",
      "Installing collected packages: pyudorandom, accumulation-tree, xxhash, tqdm, tdigest, sniffio, session-info2, safetensors, requests, regex, pyyaml, pyarrow, propcache, patsy, packaging, numpy-groupies, natsort, multidict, llvmlite, legacy-api-wrap, hf-xet, h11, frozenlist, exceptiongroup, dill, click, attrs, async-timeout, array-api-compat, aiohappyeyeballs, yarl, scikit-learn, numba, multiprocess, matplotlib, huggingface-hub, httpcore, anyio, aiosignal, tokenizers, statsmodels, seaborn, pynndescent, loompy, httpx, anndata, aiohttp, umap-learn, transformers, biothings-client, scanpy, mygene, datasets\n",
      "  Attempting uninstall: tqdm\n",
      "    Found existing installation: tqdm 4.66.1\n",
      "    Uninstalling tqdm-4.66.1:\n",
      "      Successfully uninstalled tqdm-4.66.1\n",
      "  Attempting uninstall: requests\n",
      "    Found existing installation: requests 2.31.0\n",
      "    Uninstalling requests-2.31.0:\n",
      "      Successfully uninstalled requests-2.31.0\n",
      "  Attempting uninstall: packaging\n",
      "    Found existing installation: packaging 23.1\n",
      "    Uninstalling packaging-23.1:\n",
      "      Successfully uninstalled packaging-23.1\n",
      "  Attempting uninstall: scikit-learn\n",
      "    Found existing installation: scikit-learn 1.3.0\n",
      "    Uninstalling scikit-learn-1.3.0:\n",
      "      Successfully uninstalled scikit-learn-1.3.0\n",
      "  Attempting uninstall: matplotlib\n",
      "    Found existing installation: matplotlib 3.7.2\n",
      "    Uninstalling matplotlib-3.7.2:\n",
      "      Successfully uninstalled matplotlib-3.7.2\n",
      "  Attempting uninstall: seaborn\n",
      "    Found existing installation: seaborn 0.12.2\n",
      "    Uninstalling seaborn-0.12.2:\n",
      "      Successfully uninstalled seaborn-0.12.2\n",
      "Successfully installed accumulation-tree-0.6.4 aiohappyeyeballs-2.6.1 aiohttp-3.12.14 aiosignal-1.4.0 anndata-0.11.4 anyio-4.9.0 array-api-compat-1.12.0 async-timeout-5.0.1 attrs-25.3.0 biothings-client-0.4.1 click-8.2.1 datasets-4.0.0 dill-0.3.8 exceptiongroup-1.3.0 frozenlist-1.7.0 h11-0.16.0 hf-xet-1.1.5 httpcore-1.0.9 httpx-0.28.1 huggingface-hub-0.33.4 legacy-api-wrap-1.4.1 llvmlite-0.44.0 loompy-3.0.8 matplotlib-3.10.3 multidict-6.6.3 multiprocess-0.70.16 mygene-3.2.2 natsort-8.4.0 numba-0.61.2 numpy-groupies-0.11.3 packaging-25.0 patsy-1.0.1 propcache-0.3.2 pyarrow-21.0.0 pynndescent-0.5.13 pyudorandom-1.0.0 pyyaml-6.0.2 regex-2024.11.6 requests-2.32.4 safetensors-0.5.3 scanpy-1.11.3 scikit-learn-1.7.1 seaborn-0.13.2 session-info2-0.1.2 sniffio-1.3.1 statsmodels-0.14.5 tdigest-0.5.2.2 tokenizers-0.15.2 tqdm-4.67.1 transformers-4.39.0 umap-learn-0.5.9.post2 xxhash-3.5.0 yarl-1.20.1\n",
      "\u001b[33mWARNING: Running pip as the 'root' user can result in broken permissions and conflicting behaviour with the system package manager. It is recommended to use a virtual environment instead: https://pip.pypa.io/warnings/venv\u001b[0m\u001b[33m\n",
      "\u001b[0mNote: you may need to restart the kernel to use updated packages.\n"
     ]
    }
   ],
   "source": [
    "pip install -r requirements.txt"
   ]
  },
  {
   "cell_type": "code",
   "execution_count": 2,
   "id": "ca1315a4-3209-46a2-941b-52e8c0559cdb",
   "metadata": {
    "tags": []
   },
   "outputs": [
    {
     "name": "stderr",
     "output_type": "stream",
     "text": [
      "/root/miniconda3/envs/myconda/lib/python3.10/site-packages/tqdm/auto.py:21: TqdmWarning: IProgress not found. Please update jupyter and ipywidgets. See https://ipywidgets.readthedocs.io/en/stable/user_install.html\n",
      "  from .autonotebook import tqdm as notebook_tqdm\n"
     ]
    }
   ],
   "source": [
    "import mygene\n",
    "import h5py\n",
    "import pandas as pd\n",
    "import anndata as ad\n",
    "from scipy import sparse\n",
    "import numpy as np\n",
    "from datasets import load_from_disk\n",
    "# imports\n",
    "import os\n",
    "import re\n",
    "import pandas as pd\n",
    "import numpy as np\n",
    "import anndata as ad\n",
    "import collections  \n",
    "import itertools\n",
    "from collections import Counter\n",
    "import matplotlib.pyplot as plt\n",
    "from sklearn.model_selection import train_test_split\n",
    "import datetime\n",
    "import pickle\n",
    "import gc\n",
    "import subprocess\n",
    "import torch\n",
    "import seaborn as sns; sns.set()\n",
    "from datasets import load_from_disk\n",
    "\n",
    "from sklearn.metrics import accuracy_score, f1_score\n",
    "from transformers import BertForSequenceClassification\n",
    "from transformers import BertModel, BertTokenizer  \n",
    "from transformers import BertForSequenceClassification,BertTokenizer\n",
    "from sklearn.metrics import classification_report\n",
    "from sklearn.metrics import confusion_matrix, ConfusionMatrixDisplay\n",
    "from transformers import Trainer\n",
    "from tqdm import tqdm\n",
    "import os\n",
    "from transformers import AdamW\n",
    "from transformers.training_args import TrainingArguments\n",
    "import torch.optim as optim\n",
    "os.environ['CUDA_LAUNCH_BLOCKING'] = '1'\n",
    "import warnings\n",
    "warnings.filterwarnings(\"ignore\")\n",
    "#from collator_for_classification import DataCollatorForCellClassification\n",
    "#from collator_for_classification import *"
   ]
  },
  {
   "cell_type": "markdown",
   "id": "35101121-a247-46c0-857f-5521e6227a0e",
   "metadata": {},
   "source": [
    "## Data Preprocessing and Tokenization"
   ]
  },
  {
   "cell_type": "markdown",
   "id": "ffffa1d5",
   "metadata": {},
   "source": [
    "We utilized the AEL_GSE142213 dataset from the TISCH2 database, which consists of 3,994 single cells derived from two human patients diagnosed with acute erythroid leukemia (AEL). The data was generated using the 10x Genomics platform and remains untreated. This primary dataset (PMID: 32330454) provides a high-resolution view of the tumor microenvironment in AEL, and was used in our downstream analysis for cell-type classification and embedding extraction using Geneformer.\n",
    "\n",
    "Data source： http://tisch.comp-genomics.org/gallery/?cancer=AEL&species= (PMID: 32330454)"
   ]
  },
  {
   "cell_type": "code",
   "execution_count": 3,
   "id": "9adbb0ab-781a-40f9-9a4c-413aa1ea3cbd",
   "metadata": {
    "tags": []
   },
   "outputs": [],
   "source": [
    "mg = mygene.MyGeneInfo()"
   ]
  },
  {
   "cell_type": "code",
   "execution_count": 5,
   "id": "2a1254f6-50eb-4fc6-8e5a-22c189d5f6b2",
   "metadata": {
    "tags": []
   },
   "outputs": [],
   "source": [
    "with h5py.File(\"AEL_GSE142213_expression.h5\", \"r\") as f:\n",
    "    matrix = f[\"matrix\"]\n",
    "    data = matrix[\"data\"][:]\n",
    "    indices = matrix[\"indices\"][:]\n",
    "    indptr = matrix[\"indptr\"][:]\n",
    "    shape = matrix[\"shape\"][:]\n",
    "    \n",
    "\n",
    "    genes = matrix[\"features\"][\"name\"][:].astype(str)\n",
    "    \n",
    "\n",
    "    cells = matrix[\"barcodes\"][:].astype(str)\n",
    "expr_matrix = sparse.csc_matrix((data, indices, indptr), shape=shape).T  \n",
    "meta = pd.read_csv(\"AEL_GSE142213_CellMetainfo_table.tsv\", sep=\"\\t\")"
   ]
  },
  {
   "cell_type": "code",
   "execution_count": 6,
   "id": "8fa5fb87-c891-4a8a-8f6d-e549e4475d4e",
   "metadata": {
    "tags": []
   },
   "outputs": [],
   "source": [
    "meta['n_counts']  = (expr_matrix.toarray()>1).sum(axis=1)"
   ]
  },
  {
   "cell_type": "code",
   "execution_count": 7,
   "id": "e8e1fd23-f776-41e9-9fcf-fbd121de85a1",
   "metadata": {
    "tags": []
   },
   "outputs": [
    {
     "name": "stderr",
     "output_type": "stream",
     "text": [
      "Input sequence provided is already in string format. No operation performed\n",
      "Input sequence provided is already in string format. No operation performed\n",
      "174 input query terms found dup hits:\t[('LINC00115', 2), ('SLC35E2A', 2), ('CAMTA1-DT', 2), ('CROCCP2', 2), ('LINC01355', 3), ('NFYC-AS1',\n",
      "1516 input query terms found no hit:\t['AL627309.1', 'AP006222.1', 'AL732372.2', 'AL669831.1', 'AL669831.5', 'AL391244.1', 'AL391244.3', '\n"
     ]
    }
   ],
   "source": [
    "# Query MyGene for Ensembl IDs\n",
    "gene_info = mg.querymany(genes, scopes='symbol', species='human', fields='ensembl.gene', returnall=True)\n",
    "\n",
    "# Create a mapping of original symbols to Ensembl IDs\n",
    "symbol_to_ensembl = {}\n",
    "for hit in gene_info['out']:\n",
    "    if 'ensembl' in hit and isinstance(hit['ensembl'], dict) and 'gene' in hit['ensembl']:\n",
    "        symbol_to_ensembl[hit['query']] = hit['ensembl']['gene']\n",
    "    elif 'ensembl' in hit and isinstance(hit['ensembl'], list):\n",
    "        symbol_to_ensembl[hit['query']] = hit['ensembl'][0]['gene']"
   ]
  },
  {
   "cell_type": "code",
   "execution_count": 8,
   "id": "8e0f8985-27ea-4755-98f5-a620b02058ba",
   "metadata": {
    "tags": []
   },
   "outputs": [
    {
     "data": {
      "text/plain": [
       "array(['AL627309.1', 'AP006222.1', 'AL732372.2', ..., 'MT-ND5', 'MT-ND6',\n",
       "       'MT-CYB'], dtype='<U100')"
      ]
     },
     "execution_count": 8,
     "metadata": {},
     "output_type": "execute_result"
    }
   ],
   "source": [
    "genes"
   ]
  },
  {
   "cell_type": "code",
   "execution_count": 9,
   "id": "43f16e50-e768-4d13-a2eb-f1888d1f2b7a",
   "metadata": {
    "tags": []
   },
   "outputs": [],
   "source": [
    "gene_list = [symbol_to_ensembl.get(col, col) for col in genes]"
   ]
  },
  {
   "cell_type": "code",
   "execution_count": 12,
   "id": "bd5dee37-7b82-450e-a526-9b94b0a5d03c",
   "metadata": {
    "tags": []
   },
   "outputs": [
    {
     "name": "stdout",
     "output_type": "stream",
     "text": [
      "Conversion complete. Data saved to .h5ad.\n"
     ]
    }
   ],
   "source": [
    "# Convert DataFrames to AnnData format\n",
    "adata = ad.AnnData(X=expr_matrix)\n",
    "adata.obs = meta\n",
    "adata.var = pd.DataFrame({'ensembl_id':gene_list},index=gene_list)\n",
    "\n",
    "\n",
    "# Save to .h5ad format\n",
    "save_path = './output/'\n",
    "if not os.path.exists(save_path):\n",
    "    os.makedirs(save_path)\n",
    "adata.write_h5ad('output/output.h5ad')  # Replace with your desired output path\n",
    "print(\"Conversion complete. Data saved to .h5ad.\")"
   ]
  },
  {
   "cell_type": "code",
   "execution_count": 14,
   "id": "f64427b1-a213-4e90-8ddc-74e6f82e7f52",
   "metadata": {
    "tags": []
   },
   "outputs": [
    {
     "name": "stdout",
     "output_type": "stream",
     "text": [
      "Tokenizing mnt/output/output.h5ad\n",
      "mnt/output/output.h5ad has no column attribute 'filter_pass'; tokenizing all cells.\n",
      "Creating dataset.\n"
     ]
    },
    {
     "name": "stderr",
     "output_type": "stream",
     "text": [
      "Map (num_proc=4): 100%|██████████| 3994/3994 [00:01<00:00, 2136.81 examples/s]\n",
      "Map (num_proc=4): 100%|██████████| 3994/3994 [00:01<00:00, 2557.05 examples/s]\n",
      "Saving the dataset (1/1 shards): 100%|██████████| 3994/3994 [00:00<00:00, 14726.16 examples/s]\n"
     ]
    }
   ],
   "source": [
    "from geneformer import TranscriptomeTokenizer\n",
    "tk = TranscriptomeTokenizer({'Cell': 'Cell',\n",
    " 'UMAP_1': 'UMAP_1',\n",
    " 'UMAP_2': 'UMAP_2',\n",
    " 'Celltype (malignancy)': 'Celltype (malignancy)',\n",
    " 'Celltype (major-lineage)': 'Celltype (major-lineage)',\n",
    " 'Celltype (minor-lineage)': 'Celltype (minor-lineage)',\n",
    " 'Cluster': 'Cluster',\n",
    " 'Sample': 'Sample',\n",
    " 'Patient': 'Patient',\n",
    " 'Source': 'Source',\n",
    " 'Gender': 'Gender',\n",
    " 'Stage': 'Stage'},nproc=4)\n",
    "save_path = './token_data/'\n",
    "if not os.path.exists(save_path):\n",
    "    os.makedirs(save_path)\n",
    "tk.tokenize_data(\"output/\", output_directory=\"token_data/\", output_prefix=\"AEL\",file_format='h5ad')"
   ]
  },
  {
   "cell_type": "markdown",
   "id": "dfa4d142-24c3-46e8-b01a-febddf90f742",
   "metadata": {},
   "source": [
    "## Fine tuning"
   ]
  },
  {
   "cell_type": "code",
   "execution_count": 17,
   "id": "cd46d885-264b-4511-888f-41916452a2ab",
   "metadata": {
    "tags": []
   },
   "outputs": [],
   "source": [
    "data = load_from_disk(\"token_data/AEL.dataset/\")\n",
    "data = pd.DataFrame(data)"
   ]
  },
  {
   "cell_type": "code",
   "execution_count": 34,
   "id": "c4c9452f-b2ec-4b5c-aea2-95c239883332",
   "metadata": {
    "tags": []
   },
   "outputs": [
    {
     "data": {
      "text/html": [
       "<div>\n",
       "<style scoped>\n",
       "    .dataframe tbody tr th:only-of-type {\n",
       "        vertical-align: middle;\n",
       "    }\n",
       "\n",
       "    .dataframe tbody tr th {\n",
       "        vertical-align: top;\n",
       "    }\n",
       "\n",
       "    .dataframe thead th {\n",
       "        text-align: right;\n",
       "    }\n",
       "</style>\n",
       "<table border=\"1\" class=\"dataframe\">\n",
       "  <thead>\n",
       "    <tr style=\"text-align: right;\">\n",
       "      <th></th>\n",
       "      <th>input_ids</th>\n",
       "      <th>Cell</th>\n",
       "      <th>UMAP_1</th>\n",
       "      <th>UMAP_2</th>\n",
       "      <th>Celltype (malignancy)</th>\n",
       "      <th>Celltype (major-lineage)</th>\n",
       "      <th>Celltype (minor-lineage)</th>\n",
       "      <th>Cluster</th>\n",
       "      <th>Sample</th>\n",
       "      <th>Patient</th>\n",
       "      <th>Source</th>\n",
       "      <th>Gender</th>\n",
       "      <th>Stage</th>\n",
       "      <th>length</th>\n",
       "    </tr>\n",
       "  </thead>\n",
       "  <tbody>\n",
       "    <tr>\n",
       "      <th>0</th>\n",
       "      <td>[20961, 6417, 8929, 331, 62, 5762, 12292, 6261...</td>\n",
       "      <td>OX1164@AAACCTGAGACACTAA-1</td>\n",
       "      <td>2.778555</td>\n",
       "      <td>-4.570139</td>\n",
       "      <td>Malignant cells</td>\n",
       "      <td>Malignant</td>\n",
       "      <td>Malignant</td>\n",
       "      <td>4</td>\n",
       "      <td>OX1164</td>\n",
       "      <td>OX1164</td>\n",
       "      <td>Tumor</td>\n",
       "      <td>Female</td>\n",
       "      <td>Primary</td>\n",
       "      <td>2048</td>\n",
       "    </tr>\n",
       "    <tr>\n",
       "      <th>1</th>\n",
       "      <td>[331, 8929, 5762, 8799, 20961, 5172, 8646, 510...</td>\n",
       "      <td>OX1164@AAACCTGAGTCGTTTG-1</td>\n",
       "      <td>-3.547933</td>\n",
       "      <td>-6.904181</td>\n",
       "      <td>Malignant cells</td>\n",
       "      <td>Malignant</td>\n",
       "      <td>Malignant</td>\n",
       "      <td>1</td>\n",
       "      <td>OX1164</td>\n",
       "      <td>OX1164</td>\n",
       "      <td>Tumor</td>\n",
       "      <td>Female</td>\n",
       "      <td>Primary</td>\n",
       "      <td>1452</td>\n",
       "    </tr>\n",
       "    <tr>\n",
       "      <th>2</th>\n",
       "      <td>[331, 8929, 4991, 5762, 12794, 9769, 62, 7330,...</td>\n",
       "      <td>OX1164@AAACCTGCAATTGCTG-1</td>\n",
       "      <td>1.246802</td>\n",
       "      <td>-7.357423</td>\n",
       "      <td>Malignant cells</td>\n",
       "      <td>Malignant</td>\n",
       "      <td>Malignant</td>\n",
       "      <td>3</td>\n",
       "      <td>OX1164</td>\n",
       "      <td>OX1164</td>\n",
       "      <td>Tumor</td>\n",
       "      <td>Female</td>\n",
       "      <td>Primary</td>\n",
       "      <td>2048</td>\n",
       "    </tr>\n",
       "    <tr>\n",
       "      <th>3</th>\n",
       "      <td>[8929, 20961, 62, 14395, 5762, 442, 3988, 1732...</td>\n",
       "      <td>OX1164@AAACCTGTCATCGGAT-1</td>\n",
       "      <td>-2.858419</td>\n",
       "      <td>-6.989849</td>\n",
       "      <td>Malignant cells</td>\n",
       "      <td>Malignant</td>\n",
       "      <td>Malignant</td>\n",
       "      <td>6</td>\n",
       "      <td>OX1164</td>\n",
       "      <td>OX1164</td>\n",
       "      <td>Tumor</td>\n",
       "      <td>Female</td>\n",
       "      <td>Primary</td>\n",
       "      <td>1241</td>\n",
       "    </tr>\n",
       "    <tr>\n",
       "      <th>4</th>\n",
       "      <td>[8929, 331, 21200, 9762, 5762, 992, 868, 11916...</td>\n",
       "      <td>OX1164@AAACCTGTCCAAAGTC-1</td>\n",
       "      <td>0.547343</td>\n",
       "      <td>-7.713346</td>\n",
       "      <td>Malignant cells</td>\n",
       "      <td>Malignant</td>\n",
       "      <td>Malignant</td>\n",
       "      <td>3</td>\n",
       "      <td>OX1164</td>\n",
       "      <td>OX1164</td>\n",
       "      <td>Tumor</td>\n",
       "      <td>Female</td>\n",
       "      <td>Primary</td>\n",
       "      <td>1756</td>\n",
       "    </tr>\n",
       "    <tr>\n",
       "      <th>...</th>\n",
       "      <td>...</td>\n",
       "      <td>...</td>\n",
       "      <td>...</td>\n",
       "      <td>...</td>\n",
       "      <td>...</td>\n",
       "      <td>...</td>\n",
       "      <td>...</td>\n",
       "      <td>...</td>\n",
       "      <td>...</td>\n",
       "      <td>...</td>\n",
       "      <td>...</td>\n",
       "      <td>...</td>\n",
       "      <td>...</td>\n",
       "      <td>...</td>\n",
       "    </tr>\n",
       "    <tr>\n",
       "      <th>3989</th>\n",
       "      <td>[8167, 13375, 6836, 11817, 2218, 5331, 4794, 1...</td>\n",
       "      <td>AYL050@CACACCTTCGTGTAGT-1</td>\n",
       "      <td>-14.334727</td>\n",
       "      <td>3.505069</td>\n",
       "      <td>Immune cells</td>\n",
       "      <td>Plasma</td>\n",
       "      <td>Plasma</td>\n",
       "      <td>12</td>\n",
       "      <td>AYL050</td>\n",
       "      <td>AYL050</td>\n",
       "      <td>Tumor</td>\n",
       "      <td>Female</td>\n",
       "      <td>Primary</td>\n",
       "      <td>1535</td>\n",
       "    </tr>\n",
       "    <tr>\n",
       "      <th>3990</th>\n",
       "      <td>[11817, 6836, 1281, 2851, 4794, 13406, 690, 72...</td>\n",
       "      <td>AYL050@CGGTTAAAGGCCCTCA-1</td>\n",
       "      <td>-14.354022</td>\n",
       "      <td>3.489591</td>\n",
       "      <td>Immune cells</td>\n",
       "      <td>Plasma</td>\n",
       "      <td>Plasma</td>\n",
       "      <td>12</td>\n",
       "      <td>AYL050</td>\n",
       "      <td>AYL050</td>\n",
       "      <td>Tumor</td>\n",
       "      <td>Female</td>\n",
       "      <td>Primary</td>\n",
       "      <td>1327</td>\n",
       "    </tr>\n",
       "    <tr>\n",
       "      <th>3991</th>\n",
       "      <td>[20837, 6836, 13406, 15270, 11817, 5963, 5331,...</td>\n",
       "      <td>AYL050@CTAATGGTCACAACGT-1</td>\n",
       "      <td>-14.321194</td>\n",
       "      <td>3.498844</td>\n",
       "      <td>Immune cells</td>\n",
       "      <td>Plasma</td>\n",
       "      <td>Plasma</td>\n",
       "      <td>12</td>\n",
       "      <td>AYL050</td>\n",
       "      <td>AYL050</td>\n",
       "      <td>Tumor</td>\n",
       "      <td>Female</td>\n",
       "      <td>Primary</td>\n",
       "      <td>1277</td>\n",
       "    </tr>\n",
       "    <tr>\n",
       "      <th>3992</th>\n",
       "      <td>[20837, 6836, 4991, 20032, 4947, 6074, 1948, 4...</td>\n",
       "      <td>AYL050@GGGCATCAGGCGTACA-1</td>\n",
       "      <td>-14.332831</td>\n",
       "      <td>3.511513</td>\n",
       "      <td>Immune cells</td>\n",
       "      <td>Plasma</td>\n",
       "      <td>Plasma</td>\n",
       "      <td>12</td>\n",
       "      <td>AYL050</td>\n",
       "      <td>AYL050</td>\n",
       "      <td>Tumor</td>\n",
       "      <td>Female</td>\n",
       "      <td>Primary</td>\n",
       "      <td>1196</td>\n",
       "    </tr>\n",
       "    <tr>\n",
       "      <th>3993</th>\n",
       "      <td>[11817, 6836, 10947, 690, 1060, 1281, 5331, 42...</td>\n",
       "      <td>AYL050@GTCACAATCCGTACAA-1</td>\n",
       "      <td>-14.312420</td>\n",
       "      <td>3.529803</td>\n",
       "      <td>Immune cells</td>\n",
       "      <td>Plasma</td>\n",
       "      <td>Plasma</td>\n",
       "      <td>12</td>\n",
       "      <td>AYL050</td>\n",
       "      <td>AYL050</td>\n",
       "      <td>Tumor</td>\n",
       "      <td>Female</td>\n",
       "      <td>Primary</td>\n",
       "      <td>2048</td>\n",
       "    </tr>\n",
       "  </tbody>\n",
       "</table>\n",
       "<p>3994 rows × 14 columns</p>\n",
       "</div>"
      ],
      "text/plain": [
       "                                              input_ids  \\\n",
       "0     [20961, 6417, 8929, 331, 62, 5762, 12292, 6261...   \n",
       "1     [331, 8929, 5762, 8799, 20961, 5172, 8646, 510...   \n",
       "2     [331, 8929, 4991, 5762, 12794, 9769, 62, 7330,...   \n",
       "3     [8929, 20961, 62, 14395, 5762, 442, 3988, 1732...   \n",
       "4     [8929, 331, 21200, 9762, 5762, 992, 868, 11916...   \n",
       "...                                                 ...   \n",
       "3989  [8167, 13375, 6836, 11817, 2218, 5331, 4794, 1...   \n",
       "3990  [11817, 6836, 1281, 2851, 4794, 13406, 690, 72...   \n",
       "3991  [20837, 6836, 13406, 15270, 11817, 5963, 5331,...   \n",
       "3992  [20837, 6836, 4991, 20032, 4947, 6074, 1948, 4...   \n",
       "3993  [11817, 6836, 10947, 690, 1060, 1281, 5331, 42...   \n",
       "\n",
       "                           Cell     UMAP_1    UMAP_2 Celltype (malignancy)  \\\n",
       "0     OX1164@AAACCTGAGACACTAA-1   2.778555 -4.570139       Malignant cells   \n",
       "1     OX1164@AAACCTGAGTCGTTTG-1  -3.547933 -6.904181       Malignant cells   \n",
       "2     OX1164@AAACCTGCAATTGCTG-1   1.246802 -7.357423       Malignant cells   \n",
       "3     OX1164@AAACCTGTCATCGGAT-1  -2.858419 -6.989849       Malignant cells   \n",
       "4     OX1164@AAACCTGTCCAAAGTC-1   0.547343 -7.713346       Malignant cells   \n",
       "...                         ...        ...       ...                   ...   \n",
       "3989  AYL050@CACACCTTCGTGTAGT-1 -14.334727  3.505069          Immune cells   \n",
       "3990  AYL050@CGGTTAAAGGCCCTCA-1 -14.354022  3.489591          Immune cells   \n",
       "3991  AYL050@CTAATGGTCACAACGT-1 -14.321194  3.498844          Immune cells   \n",
       "3992  AYL050@GGGCATCAGGCGTACA-1 -14.332831  3.511513          Immune cells   \n",
       "3993  AYL050@GTCACAATCCGTACAA-1 -14.312420  3.529803          Immune cells   \n",
       "\n",
       "     Celltype (major-lineage) Celltype (minor-lineage)  Cluster  Sample  \\\n",
       "0                   Malignant                Malignant        4  OX1164   \n",
       "1                   Malignant                Malignant        1  OX1164   \n",
       "2                   Malignant                Malignant        3  OX1164   \n",
       "3                   Malignant                Malignant        6  OX1164   \n",
       "4                   Malignant                Malignant        3  OX1164   \n",
       "...                       ...                      ...      ...     ...   \n",
       "3989                   Plasma                   Plasma       12  AYL050   \n",
       "3990                   Plasma                   Plasma       12  AYL050   \n",
       "3991                   Plasma                   Plasma       12  AYL050   \n",
       "3992                   Plasma                   Plasma       12  AYL050   \n",
       "3993                   Plasma                   Plasma       12  AYL050   \n",
       "\n",
       "     Patient Source  Gender    Stage  length  \n",
       "0     OX1164  Tumor  Female  Primary    2048  \n",
       "1     OX1164  Tumor  Female  Primary    1452  \n",
       "2     OX1164  Tumor  Female  Primary    2048  \n",
       "3     OX1164  Tumor  Female  Primary    1241  \n",
       "4     OX1164  Tumor  Female  Primary    1756  \n",
       "...      ...    ...     ...      ...     ...  \n",
       "3989  AYL050  Tumor  Female  Primary    1535  \n",
       "3990  AYL050  Tumor  Female  Primary    1327  \n",
       "3991  AYL050  Tumor  Female  Primary    1277  \n",
       "3992  AYL050  Tumor  Female  Primary    1196  \n",
       "3993  AYL050  Tumor  Female  Primary    2048  \n",
       "\n",
       "[3994 rows x 14 columns]"
      ]
     },
     "execution_count": 34,
     "metadata": {},
     "output_type": "execute_result"
    }
   ],
   "source": [
    "data"
   ]
  },
  {
   "cell_type": "code",
   "execution_count": 38,
   "id": "b076789a-1966-4517-9ff4-6b55eecc9ffa",
   "metadata": {
    "tags": []
   },
   "outputs": [],
   "source": [
    "label2id = {'Malignant cells': 0,\n",
    "             'Immune cells': 1,\n",
    "            }\n",
    "X = data['input_ids']\n",
    "y = data['Celltype (malignancy)'].map(label2id)"
   ]
  },
  {
   "cell_type": "code",
   "execution_count": 39,
   "id": "fd20d0ee-8b73-4ed0-809c-4ceb41ef9394",
   "metadata": {
    "tags": []
   },
   "outputs": [],
   "source": [
    "class Dataset(torch.utils.data.Dataset):\n",
    "    def __init__(self, X,Y):\n",
    "        self.dataset = [{'text':x,'label':y} for x,y in zip(X,Y)]\n",
    "\n",
    "    def __len__(self):\n",
    "        return len(self.dataset)\n",
    "            \n",
    "    def __getitem__(self, i):\n",
    "        text = self.dataset[i]['text']\n",
    "        label = self.dataset[i]['label']\n",
    "        return {'label':label,'input_ids':text,'length':len(text)}"
   ]
  },
  {
   "cell_type": "code",
   "execution_count": 40,
   "id": "7631e3ae-59ec-4a34-a20f-9a0b65d4aeaa",
   "metadata": {
    "tags": []
   },
   "outputs": [
    {
     "name": "stdout",
     "output_type": "stream",
     "text": [
      "(2795,)\n",
      "(400,)\n",
      "(799,)\n"
     ]
    }
   ],
   "source": [
    "X_train, X_test, y_train, y_test = train_test_split(X, y, test_size=0.20, random_state=42,stratify=y)\n",
    "X_train, X_val, y_train, y_val = train_test_split(X_train, y_train, test_size=0.125, random_state=42,stratify=y_train)\n",
    "print(y_train.shape)\n",
    "print(y_val.shape)\n",
    "print(y_test.shape)"
   ]
  },
  {
   "cell_type": "code",
   "execution_count": 41,
   "id": "120fb773-9719-42ca-9b68-22b7458216b6",
   "metadata": {
    "tags": []
   },
   "outputs": [],
   "source": [
    "train_dataset = Dataset(X_train,y_train)\n",
    "val_dataset = Dataset(X_val,y_val)\n",
    "test_dataset = Dataset(X_test,y_test)"
   ]
  },
  {
   "cell_type": "code",
   "execution_count": 42,
   "id": "74f41890-1202-419b-849d-9fd013e7edeb",
   "metadata": {
    "tags": []
   },
   "outputs": [],
   "source": [
    "from geneformer import DataCollatorForCellClassification,DataCollatorForGeneClassification\n",
    "from geneformer.collator_for_classification import *"
   ]
  },
  {
   "cell_type": "code",
   "execution_count": 43,
   "id": "c94a0598-d8f4-44f5-bf48-84b58931eecf",
   "metadata": {
    "collapsed": true,
    "jupyter": {
     "outputs_hidden": true
    },
    "tags": []
   },
   "outputs": [
    {
     "name": "stderr",
     "output_type": "stream",
     "text": [
      "Some weights of BertForSequenceClassification were not initialized from the model checkpoint at ./mnt/Geneformer-V1-10M and are newly initialized: ['bert.pooler.dense.bias', 'bert.pooler.dense.weight', 'classifier.bias', 'classifier.weight']\n",
      "You should probably TRAIN this model on a down-stream task to be able to use it for predictions and inference.\n",
      "Some weights of BertForSequenceClassification were not initialized from the model checkpoint at ./mnt/Geneformer-V1-10M and are newly initialized because the shapes did not match:\n",
      "- bert.embeddings.LayerNorm.bias: found shape torch.Size([768]) in the checkpoint and torch.Size([256]) in the model instantiated\n",
      "- bert.embeddings.LayerNorm.weight: found shape torch.Size([768]) in the checkpoint and torch.Size([256]) in the model instantiated\n",
      "- bert.embeddings.position_embeddings.weight: found shape torch.Size([4096, 768]) in the checkpoint and torch.Size([2048, 256]) in the model instantiated\n",
      "- bert.embeddings.token_type_embeddings.weight: found shape torch.Size([2, 768]) in the checkpoint and torch.Size([2, 256]) in the model instantiated\n",
      "- bert.embeddings.word_embeddings.weight: found shape torch.Size([20275, 768]) in the checkpoint and torch.Size([25426, 256]) in the model instantiated\n",
      "- bert.encoder.layer.0.attention.output.LayerNorm.bias: found shape torch.Size([768]) in the checkpoint and torch.Size([256]) in the model instantiated\n",
      "- bert.encoder.layer.0.attention.output.LayerNorm.weight: found shape torch.Size([768]) in the checkpoint and torch.Size([256]) in the model instantiated\n",
      "- bert.encoder.layer.0.attention.output.dense.bias: found shape torch.Size([768]) in the checkpoint and torch.Size([256]) in the model instantiated\n",
      "- bert.encoder.layer.0.attention.output.dense.weight: found shape torch.Size([768, 768]) in the checkpoint and torch.Size([256, 256]) in the model instantiated\n",
      "- bert.encoder.layer.0.attention.self.key.bias: found shape torch.Size([768]) in the checkpoint and torch.Size([256]) in the model instantiated\n",
      "- bert.encoder.layer.0.attention.self.key.weight: found shape torch.Size([768, 768]) in the checkpoint and torch.Size([256, 256]) in the model instantiated\n",
      "- bert.encoder.layer.0.attention.self.query.bias: found shape torch.Size([768]) in the checkpoint and torch.Size([256]) in the model instantiated\n",
      "- bert.encoder.layer.0.attention.self.query.weight: found shape torch.Size([768, 768]) in the checkpoint and torch.Size([256, 256]) in the model instantiated\n",
      "- bert.encoder.layer.0.attention.self.value.bias: found shape torch.Size([768]) in the checkpoint and torch.Size([256]) in the model instantiated\n",
      "- bert.encoder.layer.0.attention.self.value.weight: found shape torch.Size([768, 768]) in the checkpoint and torch.Size([256, 256]) in the model instantiated\n",
      "- bert.encoder.layer.0.intermediate.dense.bias: found shape torch.Size([3072]) in the checkpoint and torch.Size([512]) in the model instantiated\n",
      "- bert.encoder.layer.0.intermediate.dense.weight: found shape torch.Size([3072, 768]) in the checkpoint and torch.Size([512, 256]) in the model instantiated\n",
      "- bert.encoder.layer.0.output.LayerNorm.bias: found shape torch.Size([768]) in the checkpoint and torch.Size([256]) in the model instantiated\n",
      "- bert.encoder.layer.0.output.LayerNorm.weight: found shape torch.Size([768]) in the checkpoint and torch.Size([256]) in the model instantiated\n",
      "- bert.encoder.layer.0.output.dense.bias: found shape torch.Size([768]) in the checkpoint and torch.Size([256]) in the model instantiated\n",
      "- bert.encoder.layer.0.output.dense.weight: found shape torch.Size([768, 3072]) in the checkpoint and torch.Size([256, 512]) in the model instantiated\n",
      "- bert.encoder.layer.1.attention.output.LayerNorm.bias: found shape torch.Size([768]) in the checkpoint and torch.Size([256]) in the model instantiated\n",
      "- bert.encoder.layer.1.attention.output.LayerNorm.weight: found shape torch.Size([768]) in the checkpoint and torch.Size([256]) in the model instantiated\n",
      "- bert.encoder.layer.1.attention.output.dense.bias: found shape torch.Size([768]) in the checkpoint and torch.Size([256]) in the model instantiated\n",
      "- bert.encoder.layer.1.attention.output.dense.weight: found shape torch.Size([768, 768]) in the checkpoint and torch.Size([256, 256]) in the model instantiated\n",
      "- bert.encoder.layer.1.attention.self.key.bias: found shape torch.Size([768]) in the checkpoint and torch.Size([256]) in the model instantiated\n",
      "- bert.encoder.layer.1.attention.self.key.weight: found shape torch.Size([768, 768]) in the checkpoint and torch.Size([256, 256]) in the model instantiated\n",
      "- bert.encoder.layer.1.attention.self.query.bias: found shape torch.Size([768]) in the checkpoint and torch.Size([256]) in the model instantiated\n",
      "- bert.encoder.layer.1.attention.self.query.weight: found shape torch.Size([768, 768]) in the checkpoint and torch.Size([256, 256]) in the model instantiated\n",
      "- bert.encoder.layer.1.attention.self.value.bias: found shape torch.Size([768]) in the checkpoint and torch.Size([256]) in the model instantiated\n",
      "- bert.encoder.layer.1.attention.self.value.weight: found shape torch.Size([768, 768]) in the checkpoint and torch.Size([256, 256]) in the model instantiated\n",
      "- bert.encoder.layer.1.intermediate.dense.bias: found shape torch.Size([3072]) in the checkpoint and torch.Size([512]) in the model instantiated\n",
      "- bert.encoder.layer.1.intermediate.dense.weight: found shape torch.Size([3072, 768]) in the checkpoint and torch.Size([512, 256]) in the model instantiated\n",
      "- bert.encoder.layer.1.output.LayerNorm.bias: found shape torch.Size([768]) in the checkpoint and torch.Size([256]) in the model instantiated\n",
      "- bert.encoder.layer.1.output.LayerNorm.weight: found shape torch.Size([768]) in the checkpoint and torch.Size([256]) in the model instantiated\n",
      "- bert.encoder.layer.1.output.dense.bias: found shape torch.Size([768]) in the checkpoint and torch.Size([256]) in the model instantiated\n",
      "- bert.encoder.layer.1.output.dense.weight: found shape torch.Size([768, 3072]) in the checkpoint and torch.Size([256, 512]) in the model instantiated\n",
      "- bert.encoder.layer.2.attention.output.LayerNorm.bias: found shape torch.Size([768]) in the checkpoint and torch.Size([256]) in the model instantiated\n",
      "- bert.encoder.layer.2.attention.output.LayerNorm.weight: found shape torch.Size([768]) in the checkpoint and torch.Size([256]) in the model instantiated\n",
      "- bert.encoder.layer.2.attention.output.dense.bias: found shape torch.Size([768]) in the checkpoint and torch.Size([256]) in the model instantiated\n",
      "- bert.encoder.layer.2.attention.output.dense.weight: found shape torch.Size([768, 768]) in the checkpoint and torch.Size([256, 256]) in the model instantiated\n",
      "- bert.encoder.layer.2.attention.self.key.bias: found shape torch.Size([768]) in the checkpoint and torch.Size([256]) in the model instantiated\n",
      "- bert.encoder.layer.2.attention.self.key.weight: found shape torch.Size([768, 768]) in the checkpoint and torch.Size([256, 256]) in the model instantiated\n",
      "- bert.encoder.layer.2.attention.self.query.bias: found shape torch.Size([768]) in the checkpoint and torch.Size([256]) in the model instantiated\n",
      "- bert.encoder.layer.2.attention.self.query.weight: found shape torch.Size([768, 768]) in the checkpoint and torch.Size([256, 256]) in the model instantiated\n",
      "- bert.encoder.layer.2.attention.self.value.bias: found shape torch.Size([768]) in the checkpoint and torch.Size([256]) in the model instantiated\n",
      "- bert.encoder.layer.2.attention.self.value.weight: found shape torch.Size([768, 768]) in the checkpoint and torch.Size([256, 256]) in the model instantiated\n",
      "- bert.encoder.layer.2.intermediate.dense.bias: found shape torch.Size([3072]) in the checkpoint and torch.Size([512]) in the model instantiated\n",
      "- bert.encoder.layer.2.intermediate.dense.weight: found shape torch.Size([3072, 768]) in the checkpoint and torch.Size([512, 256]) in the model instantiated\n",
      "- bert.encoder.layer.2.output.LayerNorm.bias: found shape torch.Size([768]) in the checkpoint and torch.Size([256]) in the model instantiated\n",
      "- bert.encoder.layer.2.output.LayerNorm.weight: found shape torch.Size([768]) in the checkpoint and torch.Size([256]) in the model instantiated\n",
      "- bert.encoder.layer.2.output.dense.bias: found shape torch.Size([768]) in the checkpoint and torch.Size([256]) in the model instantiated\n",
      "- bert.encoder.layer.2.output.dense.weight: found shape torch.Size([768, 3072]) in the checkpoint and torch.Size([256, 512]) in the model instantiated\n",
      "- bert.encoder.layer.3.attention.output.LayerNorm.bias: found shape torch.Size([768]) in the checkpoint and torch.Size([256]) in the model instantiated\n",
      "- bert.encoder.layer.3.attention.output.LayerNorm.weight: found shape torch.Size([768]) in the checkpoint and torch.Size([256]) in the model instantiated\n",
      "- bert.encoder.layer.3.attention.output.dense.bias: found shape torch.Size([768]) in the checkpoint and torch.Size([256]) in the model instantiated\n",
      "- bert.encoder.layer.3.attention.output.dense.weight: found shape torch.Size([768, 768]) in the checkpoint and torch.Size([256, 256]) in the model instantiated\n",
      "- bert.encoder.layer.3.attention.self.key.bias: found shape torch.Size([768]) in the checkpoint and torch.Size([256]) in the model instantiated\n",
      "- bert.encoder.layer.3.attention.self.key.weight: found shape torch.Size([768, 768]) in the checkpoint and torch.Size([256, 256]) in the model instantiated\n",
      "- bert.encoder.layer.3.attention.self.query.bias: found shape torch.Size([768]) in the checkpoint and torch.Size([256]) in the model instantiated\n",
      "- bert.encoder.layer.3.attention.self.query.weight: found shape torch.Size([768, 768]) in the checkpoint and torch.Size([256, 256]) in the model instantiated\n",
      "- bert.encoder.layer.3.attention.self.value.bias: found shape torch.Size([768]) in the checkpoint and torch.Size([256]) in the model instantiated\n",
      "- bert.encoder.layer.3.attention.self.value.weight: found shape torch.Size([768, 768]) in the checkpoint and torch.Size([256, 256]) in the model instantiated\n",
      "- bert.encoder.layer.3.intermediate.dense.bias: found shape torch.Size([3072]) in the checkpoint and torch.Size([512]) in the model instantiated\n",
      "- bert.encoder.layer.3.intermediate.dense.weight: found shape torch.Size([3072, 768]) in the checkpoint and torch.Size([512, 256]) in the model instantiated\n",
      "- bert.encoder.layer.3.output.LayerNorm.bias: found shape torch.Size([768]) in the checkpoint and torch.Size([256]) in the model instantiated\n",
      "- bert.encoder.layer.3.output.LayerNorm.weight: found shape torch.Size([768]) in the checkpoint and torch.Size([256]) in the model instantiated\n",
      "- bert.encoder.layer.3.output.dense.bias: found shape torch.Size([768]) in the checkpoint and torch.Size([256]) in the model instantiated\n",
      "- bert.encoder.layer.3.output.dense.weight: found shape torch.Size([768, 3072]) in the checkpoint and torch.Size([256, 512]) in the model instantiated\n",
      "- bert.encoder.layer.4.attention.output.LayerNorm.bias: found shape torch.Size([768]) in the checkpoint and torch.Size([256]) in the model instantiated\n",
      "- bert.encoder.layer.4.attention.output.LayerNorm.weight: found shape torch.Size([768]) in the checkpoint and torch.Size([256]) in the model instantiated\n",
      "- bert.encoder.layer.4.attention.output.dense.bias: found shape torch.Size([768]) in the checkpoint and torch.Size([256]) in the model instantiated\n",
      "- bert.encoder.layer.4.attention.output.dense.weight: found shape torch.Size([768, 768]) in the checkpoint and torch.Size([256, 256]) in the model instantiated\n",
      "- bert.encoder.layer.4.attention.self.key.bias: found shape torch.Size([768]) in the checkpoint and torch.Size([256]) in the model instantiated\n",
      "- bert.encoder.layer.4.attention.self.key.weight: found shape torch.Size([768, 768]) in the checkpoint and torch.Size([256, 256]) in the model instantiated\n",
      "- bert.encoder.layer.4.attention.self.query.bias: found shape torch.Size([768]) in the checkpoint and torch.Size([256]) in the model instantiated\n",
      "- bert.encoder.layer.4.attention.self.query.weight: found shape torch.Size([768, 768]) in the checkpoint and torch.Size([256, 256]) in the model instantiated\n",
      "- bert.encoder.layer.4.attention.self.value.bias: found shape torch.Size([768]) in the checkpoint and torch.Size([256]) in the model instantiated\n",
      "- bert.encoder.layer.4.attention.self.value.weight: found shape torch.Size([768, 768]) in the checkpoint and torch.Size([256, 256]) in the model instantiated\n",
      "- bert.encoder.layer.4.intermediate.dense.bias: found shape torch.Size([3072]) in the checkpoint and torch.Size([512]) in the model instantiated\n",
      "- bert.encoder.layer.4.intermediate.dense.weight: found shape torch.Size([3072, 768]) in the checkpoint and torch.Size([512, 256]) in the model instantiated\n",
      "- bert.encoder.layer.4.output.LayerNorm.bias: found shape torch.Size([768]) in the checkpoint and torch.Size([256]) in the model instantiated\n",
      "- bert.encoder.layer.4.output.LayerNorm.weight: found shape torch.Size([768]) in the checkpoint and torch.Size([256]) in the model instantiated\n",
      "- bert.encoder.layer.4.output.dense.bias: found shape torch.Size([768]) in the checkpoint and torch.Size([256]) in the model instantiated\n",
      "- bert.encoder.layer.4.output.dense.weight: found shape torch.Size([768, 3072]) in the checkpoint and torch.Size([256, 512]) in the model instantiated\n",
      "- bert.encoder.layer.5.attention.output.LayerNorm.bias: found shape torch.Size([768]) in the checkpoint and torch.Size([256]) in the model instantiated\n",
      "- bert.encoder.layer.5.attention.output.LayerNorm.weight: found shape torch.Size([768]) in the checkpoint and torch.Size([256]) in the model instantiated\n",
      "- bert.encoder.layer.5.attention.output.dense.bias: found shape torch.Size([768]) in the checkpoint and torch.Size([256]) in the model instantiated\n",
      "- bert.encoder.layer.5.attention.output.dense.weight: found shape torch.Size([768, 768]) in the checkpoint and torch.Size([256, 256]) in the model instantiated\n",
      "- bert.encoder.layer.5.attention.self.key.bias: found shape torch.Size([768]) in the checkpoint and torch.Size([256]) in the model instantiated\n",
      "- bert.encoder.layer.5.attention.self.key.weight: found shape torch.Size([768, 768]) in the checkpoint and torch.Size([256, 256]) in the model instantiated\n",
      "- bert.encoder.layer.5.attention.self.query.bias: found shape torch.Size([768]) in the checkpoint and torch.Size([256]) in the model instantiated\n",
      "- bert.encoder.layer.5.attention.self.query.weight: found shape torch.Size([768, 768]) in the checkpoint and torch.Size([256, 256]) in the model instantiated\n",
      "- bert.encoder.layer.5.attention.self.value.bias: found shape torch.Size([768]) in the checkpoint and torch.Size([256]) in the model instantiated\n",
      "- bert.encoder.layer.5.attention.self.value.weight: found shape torch.Size([768, 768]) in the checkpoint and torch.Size([256, 256]) in the model instantiated\n",
      "- bert.encoder.layer.5.intermediate.dense.bias: found shape torch.Size([3072]) in the checkpoint and torch.Size([512]) in the model instantiated\n",
      "- bert.encoder.layer.5.intermediate.dense.weight: found shape torch.Size([3072, 768]) in the checkpoint and torch.Size([512, 256]) in the model instantiated\n",
      "- bert.encoder.layer.5.output.LayerNorm.bias: found shape torch.Size([768]) in the checkpoint and torch.Size([256]) in the model instantiated\n",
      "- bert.encoder.layer.5.output.LayerNorm.weight: found shape torch.Size([768]) in the checkpoint and torch.Size([256]) in the model instantiated\n",
      "- bert.encoder.layer.5.output.dense.bias: found shape torch.Size([768]) in the checkpoint and torch.Size([256]) in the model instantiated\n",
      "- bert.encoder.layer.5.output.dense.weight: found shape torch.Size([768, 3072]) in the checkpoint and torch.Size([256, 512]) in the model instantiated\n",
      "You should probably TRAIN this model on a down-stream task to be able to use it for predictions and inference.\n"
     ]
    },
    {
     "name": "stdout",
     "output_type": "stream",
     "text": [
      "\n"
     ]
    }
   ],
   "source": [
    "model = BertForSequenceClassification.from_pretrained(\"Wenqian99/Geneformer-V1-10M\",\n",
    "                                                     num_labels = 2,\n",
    "                                                    output_attentions = False, \n",
    "                                                     output_hidden_states = False,\n",
    "                                                     ignore_mismatched_sizes=True).to(\"cuda\")\n",
    "tokenizer = PrecollatorForGeneAndCellClassification()\n",
    "print('')"
   ]
  },
  {
   "cell_type": "code",
   "execution_count": 44,
   "id": "e8fe9bc3-8cee-4a6c-a8c8-08192e9eed46",
   "metadata": {
    "tags": []
   },
   "outputs": [],
   "source": [
    "collate_fn = DataCollatorForGeneClassification()\n",
    "collate_fn.max_length = 300\n",
    "optimizer = AdamW(model.parameters(), lr=0.00005)"
   ]
  },
  {
   "cell_type": "code",
   "execution_count": 45,
   "id": "048b6f1c-fa79-46c9-bbca-030242a539d2",
   "metadata": {
    "tags": []
   },
   "outputs": [],
   "source": [
    "max_epoch = 30 \n",
    "earlystopping = 5 \n",
    "bestsave_directory = \"./bestmodel\"\n",
    "if not os.path.exists(bestsave_directory):\n",
    "    os.makedirs(bestsave_directory)"
   ]
  },
  {
   "cell_type": "code",
   "execution_count": 46,
   "id": "4448424f-618b-4a03-b55d-e8945c69b4b3",
   "metadata": {
    "tags": []
   },
   "outputs": [
    {
     "name": "stderr",
     "output_type": "stream",
     "text": [
      "epoch [1/30]: 100%|██████████| 2795/2795 [02:11<00:00, 21.28it/s, train_acc=0.95, train_loss=0.126, val_acc=0.537, val_loss=0.0225]\n",
      "epoch [2/30]: 100%|██████████| 2795/2795 [02:10<00:00, 21.43it/s, train_acc=0.996, train_loss=0.0219, val_acc=0.985, val_loss=0.00538]\n",
      "epoch [3/30]: 100%|██████████| 2795/2795 [02:12<00:00, 21.09it/s, train_acc=0.998, train_loss=0.00721, val_acc=0.83, val_loss=0.000726]\n",
      "epoch [4/30]: 100%|██████████| 2795/2795 [02:10<00:00, 21.41it/s, train_acc=1, train_loss=0.000385, val_acc=0.925, val_loss=0.000119]\n",
      "epoch [5/30]: 100%|██████████| 2795/2795 [02:11<00:00, 21.27it/s, train_acc=1, train_loss=6.29e-5, val_acc=0.927, val_loss=2.78e-5]\n",
      "epoch [6/30]: 100%|██████████| 2795/2795 [02:14<00:00, 20.82it/s, train_acc=1, train_loss=1.5e-5, val_acc=0.93, val_loss=6.79e-6]\n",
      "epoch [7/30]: 100%|██████████| 2795/2795 [02:09<00:00, 21.63it/s, train_acc=1, train_loss=3.7e-6, val_acc=0.932, val_loss=1.67e-6]\n"
     ]
    }
   ],
   "source": [
    "max_acc = 0\n",
    "for epoch in range(max_epoch):\n",
    "    loop = tqdm(train_dataset, desc='epoch [{}/{}]'.format(epoch+1,max_epoch))\n",
    "    looplen = len(train_dataset)\n",
    "    batch_loss = []\n",
    "    batch_acc = []\n",
    "    for i,(batch_data) in enumerate(loop):\n",
    "        optimizer.zero_grad()\n",
    "        batch_data['input_ids'] = batch_data['input_ids'][:300]\n",
    "        tmp = collate_fn._prepare_batch([batch_data])\n",
    "        #input_ids, attention_mask,labels = tmp['input_ids'],tmp['attention_mask'],tmp['label']\n",
    "\n",
    "        input_ids, attention_mask,labels = tmp['input_ids'].to(\"cuda\"),tmp['attention_mask'].to(\"cuda\"),tmp['label'].to(\"cuda\")\n",
    "        out = model(input_ids=input_ids,attention_mask=attention_mask,labels=labels)\n",
    "\n",
    "        loss = out[0]\n",
    "        loss.backward()\n",
    "        optimizer.step()\n",
    "\n",
    "        _, pred = torch.max(out[1], dim=1)\n",
    "        acc = (pred == labels).sum().item()/len(labels)\n",
    "\n",
    "        batch_loss.append(loss.item())\n",
    "        batch_acc.append((pred == labels).sum().item()/len(labels))\n",
    "\n",
    "        loop.set_postfix(train_loss = loss.item(), train_acc = acc)\n",
    "\n",
    "        if 1%100==0:\n",
    "            gc.collect()\n",
    "            torch.cuda.empty_cache()\n",
    "\n",
    "        if i==looplen-1:\n",
    "            model.eval() \n",
    "            all_labels = []\n",
    "            all_preds = []\n",
    "            all_loss = 0\n",
    "            for batch_data in val_dataset:\n",
    "                tmp = collate_fn._prepare_batch([batch_data])\n",
    "                input_ids, attention_mask,labels = tmp['input_ids'].to(\"cuda\"),tmp['attention_mask'].to(\"cuda\"),tmp['label'].to(\"cuda\")\n",
    "                out = model(input_ids=input_ids,attention_mask=attention_mask,labels=labels)\n",
    "                _, pred = torch.max(out[1], dim=1)\n",
    "                all_labels += [i.item() for i in labels]\n",
    "                all_preds += [i.item() for i in pred]\n",
    "                all_loss += loss.item()\n",
    "            y_true,y_pred,y_loss = all_labels,all_preds,all_loss/len(all_labels)\n",
    "            val_acc = np.mean(np.array(y_true)==np.array(y_pred))\n",
    "\n",
    "            loop.set_postfix(train_loss = np.sum(batch_loss)/len(train_dataset), train_acc = np.mean(batch_acc),\n",
    "                             val_loss = y_loss, val_acc=val_acc)\n",
    "            gc.collect()\n",
    "            torch.cuda.empty_cache()\n",
    "\n",
    "    if val_acc>max_acc+0.0005:\n",
    "        max_acc = val_acc\n",
    "        model.save_pretrained(bestsave_directory)\n",
    "        stopping = 0\n",
    "    else:\n",
    "        stopping += 1\n",
    "\n",
    "    if stopping >= earlystopping:\n",
    "        break"
   ]
  },
  {
   "cell_type": "code",
   "execution_count": 47,
   "id": "743e8931-fb78-449b-940e-65a622c15c05",
   "metadata": {
    "tags": []
   },
   "outputs": [
    {
     "name": "stdout",
     "output_type": "stream",
     "text": [
      " \n"
     ]
    }
   ],
   "source": [
    "try:\n",
    "    model = model.cpu()\n",
    "    del model\n",
    "except:\n",
    "    pass\n",
    "gc.collect()\n",
    "torch.cuda.empty_cache()\n",
    "model = BertForSequenceClassification.from_pretrained(bestsave_directory)\n",
    "#GPU\n",
    "device = torch.device(\"cuda\") if torch.cuda.is_available() else torch.device(\"cpu\")\n",
    "model.to(device)\n",
    "print(' ')"
   ]
  },
  {
   "cell_type": "markdown",
   "id": "9987b49a",
   "metadata": {},
   "source": [
    "## Evaluate the model"
   ]
  },
  {
   "cell_type": "code",
   "execution_count": 48,
   "id": "c7ad4835-5e7f-4721-9af7-34b3301e61b8",
   "metadata": {
    "tags": []
   },
   "outputs": [],
   "source": [
    "model.eval() #\n",
    "all_labels = []\n",
    "all_preds = []\n",
    "all_loss = 0\n",
    "for batch_data in test_dataset:\n",
    "    tmp = collate_fn._prepare_batch([batch_data])\n",
    "    input_ids, attention_mask,labels = tmp['input_ids'].to(\"cuda\"),tmp['attention_mask'].to(\"cuda\"),tmp['label'].to(\"cuda\")\n",
    "    out = model(input_ids=input_ids,attention_mask=attention_mask,labels=labels)\n",
    "    _, pred = torch.max(out[1], dim=1)\n",
    "    all_labels += [i.item() for i in labels]\n",
    "    all_preds += [i.item() for i in pred]\n",
    "    all_loss += loss.item()\n",
    "y_true,y_pred,y_loss = all_labels,all_preds,all_loss/len(all_labels)"
   ]
  },
  {
   "cell_type": "code",
   "execution_count": 49,
   "id": "8ad55d74-9d78-4ccf-b5ca-cb7ef5f6f14e",
   "metadata": {
    "tags": []
   },
   "outputs": [
    {
     "name": "stdout",
     "output_type": "stream",
     "text": [
      "                 precision    recall  f1-score   support\n",
      "\n",
      "Malignant cells     0.9959    0.9739    0.9848       499\n",
      "   Immune cells     0.9582    0.9933    0.9755       300\n",
      "\n",
      "       accuracy                         0.9812       799\n",
      "      macro avg     0.9771    0.9836    0.9801       799\n",
      "   weighted avg     0.9817    0.9812    0.9813       799\n",
      "\n"
     ]
    }
   ],
   "source": [
    "print(classification_report(y_true,y_pred,digits=4,target_names=label2id.keys()))"
   ]
  },
  {
   "cell_type": "code",
   "execution_count": 50,
   "id": "3f68b8f9-2211-4d91-aed3-ae3ba6c2f5d4",
   "metadata": {
    "tags": []
   },
   "outputs": [
    {
     "data": {
      "image/png": "[encoded data removed]",
      "text/plain": [
       "<Figure size 640x480 with 2 Axes>"
      ]
     },
     "metadata": {},
     "output_type": "display_data"
    }
   ],
   "source": [
    "f, ax = plt.subplots() \n",
    "cm = confusion_matrix(y_test, y_pred)\n",
    "disp = ConfusionMatrixDisplay(confusion_matrix=cm,display_labels=label2id.keys())\n",
    "disp.plot(values_format='d', cmap=plt.cm.Blues,ax=ax)\n",
    "#plt.xticks(rotation=60)\n",
    "plt.savefig('cm.png', dpi=600, bbox_inches='tight')\n",
    "plt.show()"
   ]
  },
  {
   "cell_type": "code",
   "execution_count": 71,
   "id": "46d005c2-739c-43fd-9f05-8ec83b7cc58d",
   "metadata": {
    "tags": []
   },
   "outputs": [
    {
     "data": {
      "text/plain": [
       "<Axes: xlabel='umap 1', ylabel='umap 2'>"
      ]
     },
     "execution_count": 71,
     "metadata": {},
     "output_type": "execute_result"
    },
    {
     "data": {
      "image/png": "[encoded data removed]",
      "text/plain": [
       "<Figure size 1200x900 with 1 Axes>"
      ]
     },
     "metadata": {},
     "output_type": "display_data"
    }
   ],
   "source": [
    "genemodel = BertModel.from_pretrained(\"./bestmodel\",ignore_mismatched_sizes=True).to(\"cuda\")\n",
    "gene_emb = []\n",
    "for i,(batch_data) in enumerate(test_dataset):\n",
    "    tmp = collate_fn._prepare_batch([batch_data])\n",
    "    input_ids, attention_mask,labels = tmp['input_ids'].to(\"cuda\"),tmp['attention_mask'].to(\"cuda\"),tmp['label'].to(\"cuda\")\n",
    "    gene_emb.append(genemodel(input_ids=input_ids,attention_mask=attention_mask).pooler_output.cpu()[0].detach().numpy())\n",
    "gene_emb = np.array(gene_emb)\n",
    "\n",
    "umap_model = UMAP(n_neighbors=15, n_components=2,min_dist=0.0, metric='cosine', random_state=42,low_memory=False) \n",
    "X_emb_umap = umap_model.fit_transform(gene_emb)\n",
    "\n",
    "tmp = pd.DataFrame(X_emb_umap,columns=['umap 1','umap 2'])\n",
    "tmp['cell type'] = y_pred\n",
    "tmp['cell type'] = tmp['cell type'].map({0:'Malignant cells',1:'Immune cells'})\n",
    "f, ax = plt.subplots(figsize=(12,9))  #画布大小\n",
    "sns.scatterplot(data=tmp, x=\"umap 1\", y=\"umap 2\", hue=\"cell type\")"
   ]
  },
  {
   "cell_type": "code",
   "execution_count": null,
   "id": "4f295632-749f-486a-8cb4-19445b6aaa28",
   "metadata": {},
   "outputs": [],
   "source": []
  }
 ],
 "metadata": {
  "kernelspec": {
   "display_name": "Python 3 (ipykernel)",
   "language": "python",
   "name": "python3"
  },
  "language_info": {
   "codemirror_mode": {
    "name": "ipython",
    "version": 3
   },
   "file_extension": ".py",
   "mimetype": "text/x-python",
   "name": "python",
   "nbconvert_exporter": "python",
   "pygments_lexer": "ipython3",
   "version": "3.10.9"
  }
 },
 "nbformat": 4,
 "nbformat_minor": 5
}
